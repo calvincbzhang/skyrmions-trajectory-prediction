{
 "cells": [
  {
   "cell_type": "markdown",
   "metadata": {},
   "source": [
    "**Imports**"
   ]
  },
  {
   "cell_type": "code",
   "execution_count": 1,
   "metadata": {},
   "outputs": [],
   "source": [
    "# Standard imports\n",
    "import cv2\n",
    "import numpy as np;\n",
    "import os\n",
    "import pandas as pd"
   ]
  },
  {
   "cell_type": "markdown",
   "metadata": {},
   "source": [
    "**Blob detector to detect skyrmions**"
   ]
  },
  {
   "cell_type": "code",
   "execution_count": 2,
   "metadata": {},
   "outputs": [],
   "source": [
    "# Blob detecotor parameters\n",
    "params = cv2.SimpleBlobDetector_Params()\n",
    "\n",
    "# Change thresholds\n",
    "params.minThreshold = 10\n",
    "params.maxThreshold = 200\n",
    "\n",
    "# Filter by Area.\n",
    "params.filterByArea = True\n",
    "params.minArea = 10\n",
    "\n",
    "# Filter by Circularity\n",
    "params.filterByCircularity = True\n",
    "params.minCircularity = 0.1\n",
    "\n",
    "# Filter by Convexity\n",
    "params.filterByConvexity = True\n",
    "params.minConvexity = 0.87\n",
    "    \n",
    "# Filter by Inertia\n",
    "params.filterByInertia = True\n",
    "params.minInertiaRatio = 0.01\n",
    "\n",
    "# Different versions\n",
    "ver = (cv2.__version__).split('.')\n",
    "if int(ver[0]) < 3:\n",
    "    detector = cv2.SimpleBlobDetector(params)\n",
    "else: \n",
    "    detector = cv2.SimpleBlobDetector_create(params)"
   ]
  },
  {
   "cell_type": "markdown",
   "metadata": {},
   "source": [
    "**Detect skyrmions**"
   ]
  },
  {
   "cell_type": "code",
   "execution_count": 3,
   "metadata": {
    "tags": [
     "outputPrepend"
    ]
   },
   "outputs": [],
   "source": [
    "directory = 'Rec_EDGE_300K_1L_50MA.out'\n",
    "\n",
    "frames = None\n",
    "\n",
    "no_skyrmions = 15\n",
    "\n",
    "for filename in os.listdir(directory):\n",
    "    # if png\n",
    "    if filename.endswith(\".png\"):\n",
    "        coordinates = None\n",
    "        # Read image\n",
    "        image = os.path.join(directory, filename)\n",
    "        im = cv2.imread(image, cv2.IMREAD_GRAYSCALE)\n",
    "\n",
    "        # Detect\n",
    "        detector.empty()\n",
    "        keypoints = detector.detect(im)\n",
    "        \n",
    "#         # Draw detected blobs as red circles.\n",
    "#         # cv2.DRAW_MATCHES_FLAGS_DRAW_RICH_KEYPOINTS ensures the size of the circle corresponds to the size of blob\n",
    "#         im_with_keypoints = cv2.drawKeypoints(im, keypoints, np.array([]), (0,0,255), cv2.DRAW_MATCHES_FLAGS_DRAW_RICH_KEYPOINTS)\n",
    "\n",
    "#         # Show keypoints\n",
    "#         cv2.imshow(\"Keypoints\", im_with_keypoints)\n",
    "#         cv2.waitKey(0)\n",
    "        \n",
    "        for p in keypoints:\n",
    "            coordinates = np.append(coordinates, [p.pt[0], p.pt[1]]) if coordinates is not None else [p.pt[0], p.pt[1]]\n",
    "            \n",
    "        # if skyrmions arenot detected, then they are at the border of the image\n",
    "        # impute putting them in the centre on the left side of the image\n",
    "        while (len(coordinates) < 2 * no_skyrmions):\n",
    "            coordinates = np.append(coordinates, [0, im.shape[:2][0] / 2]) if coordinates is not None else [0, im.shape[:2][0] / 2]\n",
    "                               \n",
    "        frames = np.append(frames, coordinates) if frames is not None else [coordinates]\n",
    "\n",
    "frames = frames.reshape(-1, 2 * no_skyrmions)"
   ]
  },
  {
   "cell_type": "markdown",
   "metadata": {},
   "source": [
    "**Save data to file**"
   ]
  },
  {
   "cell_type": "code",
   "execution_count": 4,
   "metadata": {
    "tags": [
     "outputPrepend",
     "outputPrepend"
    ]
   },
   "outputs": [],
   "source": [
    "# Save frames to file\n",
    "with open('frames.txt', 'w') as f:\n",
    "    for frame in frames:\n",
    "        for i in range(0, len(frame), 2):\n",
    "            f.write('(' + str(frame[i]) + ', ' + str(frame[i+1]) + '), ')\n",
    "        f.write('\\n\\n')"
   ]
  },
  {
   "cell_type": "markdown",
   "metadata": {},
   "source": [
    "## One image input"
   ]
  },
  {
   "cell_type": "markdown",
   "metadata": {},
   "source": [
    "**Make data samples**"
   ]
  },
  {
   "cell_type": "code",
   "execution_count": 5,
   "metadata": {},
   "outputs": [],
   "source": [
    "# Samples are (frame, next_frame)\n",
    "\n",
    "X = frames[:-1]\n",
    "y = frames[1:]"
   ]
  },
  {
   "cell_type": "markdown",
   "metadata": {},
   "source": [
    "**Split data for training and testing**"
   ]
  },
  {
   "cell_type": "code",
   "execution_count": 6,
   "metadata": {},
   "outputs": [],
   "source": [
    "from sklearn.model_selection import train_test_split\n",
    "\n",
    "X_train, X_test, y_train, y_test = train_test_split(X, y, test_size=0.2, random_state=5)"
   ]
  },
  {
   "cell_type": "code",
   "execution_count": 7,
   "metadata": {},
   "outputs": [
    {
     "name": "stdout",
     "output_type": "stream",
     "text": [
      "X_train shape: (639, 30)\n",
      "y_train shape: (639, 30)\n",
      "X_test shape: (160, 30)\n",
      "y_test shape: (160, 30)\n"
     ]
    }
   ],
   "source": [
    "print(\"X_train shape: \" + str(X_train.shape))\n",
    "print(\"y_train shape: \" + str(y_train.shape))\n",
    "print(\"X_test shape: \" + str(X_test.shape))\n",
    "print(\"y_test shape: \" + str(y_test.shape))"
   ]
  },
  {
   "cell_type": "markdown",
   "metadata": {},
   "source": [
    "**Hyperparameters**"
   ]
  },
  {
   "cell_type": "code",
   "execution_count": 8,
   "metadata": {},
   "outputs": [],
   "source": [
    "activation = 'relu'\n",
    "\n",
    "optimizer = 'NAdam'\n",
    "loss = 'mae'\n",
    "metrics = ['accuracy']\n",
    "training_epochs = 100\n",
    "batch_size = 128\n",
    "\n",
    "n_input = 2 * no_skyrmions\n",
    "n_hidden_1 = 500\n",
    "n_hidden_2 = 300\n",
    "n_hidden_3 = 100\n",
    "n_output = 2 * no_skyrmions"
   ]
  },
  {
   "cell_type": "markdown",
   "metadata": {},
   "source": [
    "**Build Neural Network**"
   ]
  },
  {
   "cell_type": "code",
   "execution_count": 9,
   "metadata": {},
   "outputs": [
    {
     "name": "stderr",
     "output_type": "stream",
     "text": [
      "Using TensorFlow backend.\n"
     ]
    }
   ],
   "source": [
    "#Dependencies\n",
    "import keras\n",
    "from keras.models import Sequential\n",
    "from keras.layers import Dense\n",
    "\n",
    "# Neural network\n",
    "model = Sequential()\n",
    "model.add(Dense(n_hidden_1, input_dim=n_input, activation=activation))\n",
    "model.add(Dense(n_hidden_2, activation=activation))\n",
    "model.add(Dense(n_hidden_3, activation=activation))\n",
    "model.add(Dense(n_output))"
   ]
  },
  {
   "cell_type": "code",
   "execution_count": 10,
   "metadata": {},
   "outputs": [],
   "source": [
    "model.compile(loss=loss, optimizer=optimizer, metrics=metrics)"
   ]
  },
  {
   "cell_type": "code",
   "execution_count": 11,
   "metadata": {},
   "outputs": [
    {
     "name": "stdout",
     "output_type": "stream",
     "text": [
      "Train on 639 samples, validate on 160 samples\n",
      "Epoch 1/100\n",
      "639/639 [==============================] - 0s 265us/step - loss: 227.4768 - accuracy: 0.0548 - val_loss: 152.5622 - val_accuracy: 0.0625\n",
      "Epoch 2/100\n",
      "639/639 [==============================] - 0s 34us/step - loss: 145.4903 - accuracy: 0.0751 - val_loss: 119.1107 - val_accuracy: 0.0500\n",
      "Epoch 3/100\n",
      "639/639 [==============================] - 0s 31us/step - loss: 121.1648 - accuracy: 0.0845 - val_loss: 104.2787 - val_accuracy: 0.0812\n",
      "Epoch 4/100\n",
      "639/639 [==============================] - 0s 28us/step - loss: 113.2397 - accuracy: 0.0814 - val_loss: 103.4725 - val_accuracy: 0.0750\n",
      "Epoch 5/100\n",
      "639/639 [==============================] - 0s 28us/step - loss: 108.5447 - accuracy: 0.0814 - val_loss: 104.9759 - val_accuracy: 0.0812\n",
      "Epoch 6/100\n",
      "639/639 [==============================] - 0s 27us/step - loss: 105.8969 - accuracy: 0.0908 - val_loss: 97.9941 - val_accuracy: 0.0812\n",
      "Epoch 7/100\n",
      "639/639 [==============================] - 0s 28us/step - loss: 99.9880 - accuracy: 0.0970 - val_loss: 92.8773 - val_accuracy: 0.0375\n",
      "Epoch 8/100\n",
      "639/639 [==============================] - 0s 30us/step - loss: 98.6801 - accuracy: 0.0923 - val_loss: 94.9256 - val_accuracy: 0.0750\n",
      "Epoch 9/100\n",
      "639/639 [==============================] - 0s 33us/step - loss: 99.1684 - accuracy: 0.1049 - val_loss: 100.7236 - val_accuracy: 0.1000\n",
      "Epoch 10/100\n",
      "639/639 [==============================] - 0s 31us/step - loss: 105.4401 - accuracy: 0.0970 - val_loss: 91.9561 - val_accuracy: 0.0750\n",
      "Epoch 11/100\n",
      "639/639 [==============================] - 0s 34us/step - loss: 96.4314 - accuracy: 0.1033 - val_loss: 96.9869 - val_accuracy: 0.0875\n",
      "Epoch 12/100\n",
      "639/639 [==============================] - 0s 33us/step - loss: 98.4646 - accuracy: 0.0970 - val_loss: 91.5037 - val_accuracy: 0.0625\n",
      "Epoch 13/100\n",
      "639/639 [==============================] - 0s 31us/step - loss: 96.1863 - accuracy: 0.0876 - val_loss: 99.3824 - val_accuracy: 0.0875\n",
      "Epoch 14/100\n",
      "639/639 [==============================] - 0s 31us/step - loss: 95.1599 - accuracy: 0.1033 - val_loss: 90.7350 - val_accuracy: 0.0625\n",
      "Epoch 15/100\n",
      "639/639 [==============================] - 0s 30us/step - loss: 91.4934 - accuracy: 0.1033 - val_loss: 94.0791 - val_accuracy: 0.0688\n",
      "Epoch 16/100\n",
      "639/639 [==============================] - 0s 23us/step - loss: 92.2985 - accuracy: 0.1049 - val_loss: 88.2788 - val_accuracy: 0.0562\n",
      "Epoch 17/100\n",
      "639/639 [==============================] - 0s 23us/step - loss: 88.4867 - accuracy: 0.1049 - val_loss: 92.0220 - val_accuracy: 0.1000\n",
      "Epoch 18/100\n",
      "639/639 [==============================] - 0s 22us/step - loss: 90.0720 - accuracy: 0.0876 - val_loss: 91.6268 - val_accuracy: 0.0500\n",
      "Epoch 19/100\n",
      "639/639 [==============================] - 0s 23us/step - loss: 94.6472 - accuracy: 0.1236 - val_loss: 94.2416 - val_accuracy: 0.0437\n",
      "Epoch 20/100\n",
      "639/639 [==============================] - 0s 28us/step - loss: 94.7207 - accuracy: 0.1158 - val_loss: 92.6439 - val_accuracy: 0.0688\n",
      "Epoch 21/100\n",
      "639/639 [==============================] - 0s 30us/step - loss: 92.7506 - accuracy: 0.1142 - val_loss: 89.9877 - val_accuracy: 0.0625\n",
      "Epoch 22/100\n",
      "639/639 [==============================] - 0s 28us/step - loss: 89.1470 - accuracy: 0.1127 - val_loss: 95.1714 - val_accuracy: 0.0875\n",
      "Epoch 23/100\n",
      "639/639 [==============================] - 0s 30us/step - loss: 90.5474 - accuracy: 0.1033 - val_loss: 91.3741 - val_accuracy: 0.0437\n",
      "Epoch 24/100\n",
      "639/639 [==============================] - 0s 30us/step - loss: 88.5947 - accuracy: 0.1080 - val_loss: 93.5134 - val_accuracy: 0.0875\n",
      "Epoch 25/100\n",
      "639/639 [==============================] - 0s 28us/step - loss: 87.5891 - accuracy: 0.1064 - val_loss: 92.4104 - val_accuracy: 0.0688\n",
      "Epoch 26/100\n",
      "639/639 [==============================] - 0s 30us/step - loss: 88.7739 - accuracy: 0.1049 - val_loss: 96.8282 - val_accuracy: 0.0812\n",
      "Epoch 27/100\n",
      "639/639 [==============================] - 0s 31us/step - loss: 88.7139 - accuracy: 0.1268 - val_loss: 89.1296 - val_accuracy: 0.0750\n",
      "Epoch 28/100\n",
      "639/639 [==============================] - 0s 25us/step - loss: 85.0602 - accuracy: 0.1142 - val_loss: 96.4075 - val_accuracy: 0.0812\n",
      "Epoch 29/100\n",
      "639/639 [==============================] - 0s 23us/step - loss: 86.5013 - accuracy: 0.1205 - val_loss: 91.2323 - val_accuracy: 0.0812\n",
      "Epoch 30/100\n",
      "639/639 [==============================] - 0s 22us/step - loss: 86.0316 - accuracy: 0.1142 - val_loss: 93.4997 - val_accuracy: 0.0875\n",
      "Epoch 31/100\n",
      "639/639 [==============================] - 0s 23us/step - loss: 87.6843 - accuracy: 0.1205 - val_loss: 92.0620 - val_accuracy: 0.0938\n",
      "Epoch 32/100\n",
      "639/639 [==============================] - 0s 20us/step - loss: 84.7783 - accuracy: 0.1174 - val_loss: 91.4830 - val_accuracy: 0.0688\n",
      "Epoch 33/100\n",
      "639/639 [==============================] - 0s 33us/step - loss: 82.3359 - accuracy: 0.1268 - val_loss: 88.1524 - val_accuracy: 0.1125\n",
      "Epoch 34/100\n",
      "639/639 [==============================] - 0s 25us/step - loss: 83.6816 - accuracy: 0.1362 - val_loss: 95.2218 - val_accuracy: 0.0812\n",
      "Epoch 35/100\n",
      "639/639 [==============================] - 0s 23us/step - loss: 84.3497 - accuracy: 0.1362 - val_loss: 91.1085 - val_accuracy: 0.0437\n",
      "Epoch 36/100\n",
      "639/639 [==============================] - ETA: 0s - loss: 86.4014 - accuracy: 0.085 - 0s 25us/step - loss: 83.8931 - accuracy: 0.1299 - val_loss: 93.9078 - val_accuracy: 0.0875\n",
      "Epoch 37/100\n",
      "639/639 [==============================] - 0s 25us/step - loss: 83.4111 - accuracy: 0.1315 - val_loss: 90.8553 - val_accuracy: 0.1187\n",
      "Epoch 38/100\n",
      "639/639 [==============================] - 0s 25us/step - loss: 80.3584 - accuracy: 0.1330 - val_loss: 91.0745 - val_accuracy: 0.0812\n",
      "Epoch 39/100\n",
      "639/639 [==============================] - 0s 22us/step - loss: 80.1167 - accuracy: 0.1408 - val_loss: 90.3164 - val_accuracy: 0.0500\n",
      "Epoch 40/100\n",
      "639/639 [==============================] - 0s 23us/step - loss: 80.4469 - accuracy: 0.1268 - val_loss: 98.2376 - val_accuracy: 0.0875\n",
      "Epoch 41/100\n",
      "639/639 [==============================] - 0s 22us/step - loss: 83.4268 - accuracy: 0.1518 - val_loss: 89.6863 - val_accuracy: 0.0625\n",
      "Epoch 42/100\n",
      "639/639 [==============================] - 0s 23us/step - loss: 79.7118 - accuracy: 0.1346 - val_loss: 94.5394 - val_accuracy: 0.0750\n",
      "Epoch 43/100\n",
      "639/639 [==============================] - 0s 23us/step - loss: 80.4248 - accuracy: 0.1362 - val_loss: 92.3208 - val_accuracy: 0.1063\n",
      "Epoch 44/100\n",
      "639/639 [==============================] - 0s 22us/step - loss: 79.7196 - accuracy: 0.1628 - val_loss: 95.9182 - val_accuracy: 0.0625\n",
      "Epoch 45/100\n",
      "639/639 [==============================] - 0s 22us/step - loss: 79.0782 - accuracy: 0.1518 - val_loss: 89.5290 - val_accuracy: 0.0812\n",
      "Epoch 46/100\n",
      "639/639 [==============================] - 0s 22us/step - loss: 74.6009 - accuracy: 0.1377 - val_loss: 90.9627 - val_accuracy: 0.0812\n",
      "Epoch 47/100\n",
      "639/639 [==============================] - 0s 22us/step - loss: 74.7554 - accuracy: 0.1659 - val_loss: 89.8451 - val_accuracy: 0.0750\n",
      "Epoch 48/100\n",
      "639/639 [==============================] - 0s 23us/step - loss: 74.5895 - accuracy: 0.1596 - val_loss: 90.9775 - val_accuracy: 0.0812\n",
      "Epoch 49/100\n",
      "639/639 [==============================] - 0s 25us/step - loss: 76.0275 - accuracy: 0.1518 - val_loss: 92.8396 - val_accuracy: 0.0562\n",
      "Epoch 50/100\n",
      "639/639 [==============================] - 0s 22us/step - loss: 79.6063 - accuracy: 0.1581 - val_loss: 97.1466 - val_accuracy: 0.0562\n",
      "Epoch 51/100\n",
      "639/639 [==============================] - 0s 20us/step - loss: 77.9757 - accuracy: 0.1581 - val_loss: 91.0543 - val_accuracy: 0.0500\n",
      "Epoch 52/100\n",
      "639/639 [==============================] - 0s 22us/step - loss: 75.3771 - accuracy: 0.1721 - val_loss: 96.2073 - val_accuracy: 0.0625\n",
      "Epoch 53/100\n",
      "639/639 [==============================] - 0s 22us/step - loss: 77.8646 - accuracy: 0.1721 - val_loss: 92.3273 - val_accuracy: 0.0500\n",
      "Epoch 54/100\n",
      "639/639 [==============================] - 0s 23us/step - loss: 74.0578 - accuracy: 0.1674 - val_loss: 93.6414 - val_accuracy: 0.0688\n",
      "Epoch 55/100\n",
      "639/639 [==============================] - 0s 22us/step - loss: 74.7483 - accuracy: 0.1862 - val_loss: 92.3346 - val_accuracy: 0.0625\n",
      "Epoch 56/100\n",
      "639/639 [==============================] - 0s 23us/step - loss: 74.6395 - accuracy: 0.1659 - val_loss: 95.6688 - val_accuracy: 0.0688\n",
      "Epoch 57/100\n",
      "639/639 [==============================] - 0s 23us/step - loss: 73.1445 - accuracy: 0.1706 - val_loss: 92.8366 - val_accuracy: 0.0688\n",
      "Epoch 58/100\n",
      "639/639 [==============================] - 0s 22us/step - loss: 72.4018 - accuracy: 0.1581 - val_loss: 91.4535 - val_accuracy: 0.0562\n",
      "Epoch 59/100\n",
      "639/639 [==============================] - 0s 22us/step - loss: 71.8793 - accuracy: 0.1721 - val_loss: 90.3883 - val_accuracy: 0.0750\n",
      "Epoch 60/100\n",
      "639/639 [==============================] - 0s 22us/step - loss: 73.3170 - accuracy: 0.1628 - val_loss: 93.7034 - val_accuracy: 0.0375\n",
      "Epoch 61/100\n",
      "639/639 [==============================] - 0s 22us/step - loss: 73.2775 - accuracy: 0.1847 - val_loss: 93.4768 - val_accuracy: 0.0688\n",
      "Epoch 62/100\n",
      "639/639 [==============================] - 0s 27us/step - loss: 72.2927 - accuracy: 0.1972 - val_loss: 98.6113 - val_accuracy: 0.0250\n",
      "Epoch 63/100\n",
      "639/639 [==============================] - 0s 23us/step - loss: 73.9404 - accuracy: 0.1925 - val_loss: 92.6897 - val_accuracy: 0.0562\n",
      "Epoch 64/100\n",
      "639/639 [==============================] - 0s 23us/step - loss: 70.9091 - accuracy: 0.1768 - val_loss: 95.3431 - val_accuracy: 0.0500\n",
      "Epoch 65/100\n",
      "639/639 [==============================] - 0s 22us/step - loss: 69.1700 - accuracy: 0.1972 - val_loss: 93.0201 - val_accuracy: 0.0812\n",
      "Epoch 66/100\n",
      "639/639 [==============================] - 0s 25us/step - loss: 68.5336 - accuracy: 0.1847 - val_loss: 94.9880 - val_accuracy: 0.0812\n",
      "Epoch 67/100\n",
      "639/639 [==============================] - 0s 22us/step - loss: 70.8082 - accuracy: 0.2113 - val_loss: 92.4798 - val_accuracy: 0.0938\n",
      "Epoch 68/100\n",
      "639/639 [==============================] - 0s 22us/step - loss: 70.3799 - accuracy: 0.1925 - val_loss: 94.9618 - val_accuracy: 0.0938\n",
      "Epoch 69/100\n",
      "639/639 [==============================] - 0s 27us/step - loss: 69.2663 - accuracy: 0.1753 - val_loss: 93.7115 - val_accuracy: 0.0500\n",
      "Epoch 70/100\n",
      "639/639 [==============================] - 0s 25us/step - loss: 69.5598 - accuracy: 0.1768 - val_loss: 94.4128 - val_accuracy: 0.0875\n",
      "Epoch 71/100\n",
      "639/639 [==============================] - 0s 27us/step - loss: 68.3674 - accuracy: 0.1862 - val_loss: 93.4675 - val_accuracy: 0.0812\n",
      "Epoch 72/100\n",
      "639/639 [==============================] - 0s 23us/step - loss: 65.7594 - accuracy: 0.1972 - val_loss: 93.5110 - val_accuracy: 0.0688\n",
      "Epoch 73/100\n",
      "639/639 [==============================] - 0s 23us/step - loss: 65.9637 - accuracy: 0.1831 - val_loss: 92.4109 - val_accuracy: 0.1000\n",
      "Epoch 74/100\n",
      "639/639 [==============================] - 0s 23us/step - loss: 65.4155 - accuracy: 0.1941 - val_loss: 95.7398 - val_accuracy: 0.0625\n",
      "Epoch 75/100\n",
      "639/639 [==============================] - 0s 23us/step - loss: 65.1439 - accuracy: 0.1815 - val_loss: 94.2021 - val_accuracy: 0.0375\n",
      "Epoch 76/100\n",
      "639/639 [==============================] - 0s 23us/step - loss: 66.3374 - accuracy: 0.2003 - val_loss: 98.5287 - val_accuracy: 0.0750\n",
      "Epoch 77/100\n",
      "639/639 [==============================] - 0s 22us/step - loss: 70.0414 - accuracy: 0.1894 - val_loss: 92.6360 - val_accuracy: 0.0688\n",
      "Epoch 78/100\n",
      "639/639 [==============================] - 0s 23us/step - loss: 64.4177 - accuracy: 0.2050 - val_loss: 96.3693 - val_accuracy: 0.0562\n",
      "Epoch 79/100\n",
      "639/639 [==============================] - 0s 23us/step - loss: 67.1946 - accuracy: 0.2144 - val_loss: 93.0833 - val_accuracy: 0.0688\n",
      "Epoch 80/100\n",
      "639/639 [==============================] - 0s 22us/step - loss: 65.0043 - accuracy: 0.2144 - val_loss: 95.7194 - val_accuracy: 0.0562\n",
      "Epoch 81/100\n",
      "639/639 [==============================] - 0s 22us/step - loss: 63.5543 - accuracy: 0.2254 - val_loss: 93.5703 - val_accuracy: 0.0938\n",
      "Epoch 82/100\n",
      "639/639 [==============================] - 0s 22us/step - loss: 62.2095 - accuracy: 0.2222 - val_loss: 97.5435 - val_accuracy: 0.0875\n",
      "Epoch 83/100\n",
      "639/639 [==============================] - 0s 23us/step - loss: 63.1176 - accuracy: 0.1878 - val_loss: 92.5083 - val_accuracy: 0.0812\n",
      "Epoch 84/100\n",
      "639/639 [==============================] - 0s 23us/step - loss: 62.8497 - accuracy: 0.1972 - val_loss: 99.3331 - val_accuracy: 0.0688\n",
      "Epoch 85/100\n",
      "639/639 [==============================] - 0s 23us/step - loss: 65.3590 - accuracy: 0.2160 - val_loss: 92.4209 - val_accuracy: 0.0812\n",
      "Epoch 86/100\n",
      "639/639 [==============================] - 0s 23us/step - loss: 62.0485 - accuracy: 0.2097 - val_loss: 96.7832 - val_accuracy: 0.0875\n",
      "Epoch 87/100\n",
      "639/639 [==============================] - 0s 23us/step - loss: 62.3876 - accuracy: 0.2034 - val_loss: 94.8922 - val_accuracy: 0.0625\n",
      "Epoch 88/100\n",
      "639/639 [==============================] - 0s 22us/step - loss: 62.8536 - accuracy: 0.1862 - val_loss: 95.8726 - val_accuracy: 0.0875\n",
      "Epoch 89/100\n",
      "639/639 [==============================] - 0s 22us/step - loss: 60.4759 - accuracy: 0.2300 - val_loss: 92.9867 - val_accuracy: 0.0688\n",
      "Epoch 90/100\n",
      "639/639 [==============================] - 0s 22us/step - loss: 59.8593 - accuracy: 0.2128 - val_loss: 95.2532 - val_accuracy: 0.0688\n",
      "Epoch 91/100\n",
      "639/639 [==============================] - 0s 23us/step - loss: 60.1139 - accuracy: 0.2222 - val_loss: 93.5977 - val_accuracy: 0.0875\n",
      "Epoch 92/100\n",
      "639/639 [==============================] - 0s 22us/step - loss: 61.2432 - accuracy: 0.2285 - val_loss: 98.9413 - val_accuracy: 0.0938\n",
      "Epoch 93/100\n",
      "639/639 [==============================] - 0s 22us/step - loss: 63.6538 - accuracy: 0.2363 - val_loss: 93.9262 - val_accuracy: 0.0625\n",
      "Epoch 94/100\n",
      "639/639 [==============================] - 0s 22us/step - loss: 61.1286 - accuracy: 0.2473 - val_loss: 96.7655 - val_accuracy: 0.0688\n",
      "Epoch 95/100\n",
      "639/639 [==============================] - 0s 22us/step - loss: 62.2842 - accuracy: 0.2300 - val_loss: 94.9858 - val_accuracy: 0.0875\n",
      "Epoch 96/100\n",
      "639/639 [==============================] - 0s 22us/step - loss: 59.3369 - accuracy: 0.2488 - val_loss: 98.2530 - val_accuracy: 0.0750\n",
      "Epoch 97/100\n",
      "639/639 [==============================] - 0s 22us/step - loss: 59.3626 - accuracy: 0.2410 - val_loss: 95.5014 - val_accuracy: 0.0812\n",
      "Epoch 98/100\n",
      "639/639 [==============================] - 0s 22us/step - loss: 59.5935 - accuracy: 0.2441 - val_loss: 94.2863 - val_accuracy: 0.0750\n",
      "Epoch 99/100\n",
      "639/639 [==============================] - 0s 23us/step - loss: 57.6727 - accuracy: 0.2520 - val_loss: 93.9165 - val_accuracy: 0.0875\n",
      "Epoch 100/100\n",
      "639/639 [==============================] - 0s 22us/step - loss: 57.3428 - accuracy: 0.2347 - val_loss: 96.8441 - val_accuracy: 0.0750\n"
     ]
    }
   ],
   "source": [
    "history = model.fit(X_train, y_train, validation_data = (X_test,y_test), epochs=training_epochs, batch_size=batch_size)"
   ]
  },
  {
   "cell_type": "code",
   "execution_count": 12,
   "metadata": {},
   "outputs": [
    {
     "name": "stdout",
     "output_type": "stream",
     "text": [
      "[718.36688232 181.54312134 750.88781738 167.82029724 822.49157715\n",
      " 115.64051819 834.37548828  72.7306366  793.40539551 176.15600586\n",
      " 907.43200684  91.83383179 874.44042969  88.77855682 956.53039551\n",
      "  88.87418365 838.09191895 157.66296387 641.89154053 149.71517944\n",
      " 784.02624512 128.50732422 982.84967041  57.9220047   28.82333374\n",
      "  43.27625656 719.50946045  76.93851471   0.         100.        ]\n",
      "[664.5878   153.63202  681.1437   119.519424 631.45264  127.537315\n",
      " 674.75885  123.70401  803.7171   110.11667  746.16626   69.0013\n",
      " 805.9337    70.32828  770.01886   80.879135 829.79803   76.97737\n",
      " 756.9094    70.85954  737.2682    72.0352   777.6817    72.96657\n",
      " 726.79956   74.834854 792.2448   131.6845   756.0156    79.742645]\n"
     ]
    }
   ],
   "source": [
    "prediction = model.predict(X_test)\n",
    "print(y_test[0])\n",
    "print(prediction[0])"
   ]
  },
  {
   "cell_type": "markdown",
   "metadata": {},
   "source": [
    "**Predict of test data**"
   ]
  },
  {
   "cell_type": "code",
   "execution_count": 13,
   "metadata": {},
   "outputs": [
    {
     "data": {
      "image/png": "[encoded data removed]",
      "text/plain": [
       "<Figure size 432x288 with 1 Axes>"
      ]
     },
     "metadata": {
      "needs_background": "light"
     },
     "output_type": "display_data"
    }
   ],
   "source": [
    "import matplotlib.pyplot as plt\n",
    "\n",
    "plt.plot(history.history['accuracy'])\n",
    "plt.plot(history.history['val_accuracy'])\n",
    "plt.title('Model accuracy')\n",
    "plt.ylabel('Accurcy')\n",
    "plt.xlabel('Epoch')\n",
    "plt.legend(['Train', 'Test'], loc='upper left')\n",
    "plt.show()"
   ]
  },
  {
   "cell_type": "code",
   "execution_count": 14,
   "metadata": {},
   "outputs": [
    {
     "data": {
      "image/png": "[encoded data removed]",
      "text/plain": [
       "<Figure size 432x288 with 1 Axes>"
      ]
     },
     "metadata": {
      "needs_background": "light"
     },
     "output_type": "display_data"
    }
   ],
   "source": [
    "plt.plot(history.history['loss'])\n",
    "plt.plot(history.history['val_loss']) \n",
    "plt.title('Model loss') \n",
    "plt.ylabel('Loss') \n",
    "plt.xlabel('Epoch') \n",
    "plt.legend(['Train', 'Test'], loc='upper left') \n",
    "plt.show()"
   ]
  },
  {
   "cell_type": "markdown",
   "metadata": {},
   "source": [
    "## Two imges input"
   ]
  },
  {
   "cell_type": "code",
   "execution_count": 15,
   "metadata": {},
   "outputs": [],
   "source": [
    "# Samples are ((frame, frame), next_frame)\n",
    "\n",
    "X = None\n",
    "\n",
    "for i in range(len(frames) - 2):\n",
    "    X = np.append(X, np.append(frames[i], frames[i+1])) if X is not None else np.append(frames[i], frames[i+1])\n",
    "X = X.reshape(-1, 4 * no_skyrmions)\n",
    "y = frames[2:]"
   ]
  },
  {
   "cell_type": "code",
   "execution_count": 16,
   "metadata": {},
   "outputs": [],
   "source": [
    "from sklearn.model_selection import train_test_split\n",
    "\n",
    "X_train, X_test, y_train, y_test = train_test_split(X, y, test_size=0.2, random_state=5)"
   ]
  },
  {
   "cell_type": "code",
   "execution_count": 17,
   "metadata": {},
   "outputs": [
    {
     "name": "stdout",
     "output_type": "stream",
     "text": [
      "X_train shape: (638, 60)\n",
      "y_train shape: (638, 30)\n",
      "X_test shape: (160, 60)\n",
      "y_test shape: (160, 30)\n"
     ]
    }
   ],
   "source": [
    "print(\"X_train shape: \" + str(X_train.shape))\n",
    "print(\"y_train shape: \" + str(y_train.shape))\n",
    "print(\"X_test shape: \" + str(X_test.shape))\n",
    "print(\"y_test shape: \" + str(y_test.shape))"
   ]
  },
  {
   "cell_type": "code",
   "execution_count": 18,
   "metadata": {},
   "outputs": [],
   "source": [
    "activation = 'relu'\n",
    "\n",
    "optimizer = 'NAdam'\n",
    "loss = 'mae'\n",
    "metrics = ['accuracy']\n",
    "training_epochs = 100\n",
    "batch_size = 128\n",
    "\n",
    "n_input = 4 * no_skyrmions\n",
    "n_hidden_1 = 500\n",
    "n_hidden_2 = 300\n",
    "n_hidden_3 = 100\n",
    "n_output = 2 * no_skyrmions"
   ]
  },
  {
   "cell_type": "code",
   "execution_count": 19,
   "metadata": {},
   "outputs": [],
   "source": [
    "#Dependencies\n",
    "import keras\n",
    "from keras.models import Sequential\n",
    "from keras.layers import Dense\n",
    "\n",
    "# Neural network\n",
    "model = Sequential()\n",
    "model.add(Dense(n_hidden_1, input_dim=n_input, activation=activation))\n",
    "model.add(Dense(n_hidden_2, activation=activation))\n",
    "model.add(Dense(n_hidden_3, activation=activation))\n",
    "model.add(Dense(n_output))"
   ]
  },
  {
   "cell_type": "code",
   "execution_count": 20,
   "metadata": {},
   "outputs": [],
   "source": [
    "model.compile(loss=loss, optimizer=optimizer, metrics=metrics)"
   ]
  },
  {
   "cell_type": "code",
   "execution_count": 21,
   "metadata": {},
   "outputs": [
    {
     "name": "stdout",
     "output_type": "stream",
     "text": [
      "Train on 638 samples, validate on 160 samples\n",
      "Epoch 1/100\n",
      "638/638 [==============================] - 0s 206us/step - loss: 222.7671 - accuracy: 0.0737 - val_loss: 161.9616 - val_accuracy: 0.0562\n",
      "Epoch 2/100\n",
      "638/638 [==============================] - 0s 33us/step - loss: 152.1924 - accuracy: 0.0846 - val_loss: 125.4096 - val_accuracy: 0.0500\n",
      "Epoch 3/100\n",
      "638/638 [==============================] - 0s 28us/step - loss: 121.8949 - accuracy: 0.0784 - val_loss: 113.8358 - val_accuracy: 0.0437\n",
      "Epoch 4/100\n",
      "638/638 [==============================] - 0s 28us/step - loss: 116.3672 - accuracy: 0.0925 - val_loss: 106.8757 - val_accuracy: 0.0625\n",
      "Epoch 5/100\n",
      "638/638 [==============================] - 0s 30us/step - loss: 112.7765 - accuracy: 0.0893 - val_loss: 100.1071 - val_accuracy: 0.1063\n",
      "Epoch 6/100\n",
      "638/638 [==============================] - 0s 30us/step - loss: 102.8446 - accuracy: 0.0893 - val_loss: 102.1962 - val_accuracy: 0.0625\n",
      "Epoch 7/100\n",
      "638/638 [==============================] - 0s 34us/step - loss: 102.9522 - accuracy: 0.0972 - val_loss: 101.0420 - val_accuracy: 0.0625\n",
      "Epoch 8/100\n",
      "638/638 [==============================] - 0s 25us/step - loss: 100.8363 - accuracy: 0.0831 - val_loss: 101.4708 - val_accuracy: 0.0875\n",
      "Epoch 9/100\n",
      "638/638 [==============================] - 0s 31us/step - loss: 98.1102 - accuracy: 0.1113 - val_loss: 95.7098 - val_accuracy: 0.0688\n",
      "Epoch 10/100\n",
      "638/638 [==============================] - 0s 28us/step - loss: 98.1961 - accuracy: 0.0846 - val_loss: 111.2344 - val_accuracy: 0.0875\n",
      "Epoch 11/100\n",
      "638/638 [==============================] - 0s 31us/step - loss: 101.0804 - accuracy: 0.0721 - val_loss: 95.6895 - val_accuracy: 0.0437\n",
      "Epoch 12/100\n",
      "638/638 [==============================] - 0s 28us/step - loss: 95.4239 - accuracy: 0.0925 - val_loss: 98.6493 - val_accuracy: 0.0625\n",
      "Epoch 13/100\n",
      "638/638 [==============================] - 0s 30us/step - loss: 95.1583 - accuracy: 0.0909 - val_loss: 95.7445 - val_accuracy: 0.0938\n",
      "Epoch 14/100\n",
      "638/638 [==============================] - 0s 27us/step - loss: 95.9770 - accuracy: 0.0909 - val_loss: 101.1321 - val_accuracy: 0.0875\n",
      "Epoch 15/100\n",
      "638/638 [==============================] - 0s 25us/step - loss: 96.5983 - accuracy: 0.0815 - val_loss: 92.1555 - val_accuracy: 0.0500\n",
      "Epoch 16/100\n",
      "638/638 [==============================] - 0s 33us/step - loss: 90.2439 - accuracy: 0.0721 - val_loss: 98.0811 - val_accuracy: 0.0875\n",
      "Epoch 17/100\n",
      "638/638 [==============================] - 0s 27us/step - loss: 91.1685 - accuracy: 0.0972 - val_loss: 93.3898 - val_accuracy: 0.0875\n",
      "Epoch 18/100\n",
      "638/638 [==============================] - 0s 28us/step - loss: 90.1142 - accuracy: 0.0862 - val_loss: 93.9814 - val_accuracy: 0.0625\n",
      "Epoch 19/100\n",
      "638/638 [==============================] - 0s 25us/step - loss: 93.4159 - accuracy: 0.0831 - val_loss: 94.8611 - val_accuracy: 0.0750\n",
      "Epoch 20/100\n",
      "638/638 [==============================] - 0s 31us/step - loss: 92.5960 - accuracy: 0.0972 - val_loss: 102.4033 - val_accuracy: 0.0812\n",
      "Epoch 21/100\n",
      "638/638 [==============================] - 0s 25us/step - loss: 90.7791 - accuracy: 0.1034 - val_loss: 92.4548 - val_accuracy: 0.0375\n",
      "Epoch 22/100\n",
      "638/638 [==============================] - 0s 33us/step - loss: 88.0263 - accuracy: 0.0987 - val_loss: 98.5644 - val_accuracy: 0.0562\n",
      "Epoch 23/100\n",
      "638/638 [==============================] - 0s 39us/step - loss: 88.5379 - accuracy: 0.0987 - val_loss: 93.1343 - val_accuracy: 0.0500\n",
      "Epoch 24/100\n",
      "638/638 [==============================] - 0s 34us/step - loss: 85.7770 - accuracy: 0.0737 - val_loss: 98.2025 - val_accuracy: 0.0812\n",
      "Epoch 25/100\n",
      "638/638 [==============================] - 0s 36us/step - loss: 85.3533 - accuracy: 0.1129 - val_loss: 93.9919 - val_accuracy: 0.0437\n",
      "Epoch 26/100\n",
      "638/638 [==============================] - 0s 28us/step - loss: 84.5523 - accuracy: 0.1034 - val_loss: 95.5639 - val_accuracy: 0.0562\n",
      "Epoch 27/100\n",
      "638/638 [==============================] - 0s 28us/step - loss: 89.8694 - accuracy: 0.1082 - val_loss: 93.6853 - val_accuracy: 0.0562\n",
      "Epoch 28/100\n",
      "638/638 [==============================] - 0s 27us/step - loss: 84.6854 - accuracy: 0.1223 - val_loss: 95.9716 - val_accuracy: 0.0312\n",
      "Epoch 29/100\n",
      "638/638 [==============================] - 0s 30us/step - loss: 82.5522 - accuracy: 0.1176 - val_loss: 95.7036 - val_accuracy: 0.0688\n",
      "Epoch 30/100\n",
      "638/638 [==============================] - 0s 28us/step - loss: 82.7208 - accuracy: 0.1129 - val_loss: 96.5840 - val_accuracy: 0.1000\n",
      "Epoch 31/100\n",
      "638/638 [==============================] - 0s 27us/step - loss: 85.6150 - accuracy: 0.1066 - val_loss: 94.3019 - val_accuracy: 0.0938\n",
      "Epoch 32/100\n",
      "638/638 [==============================] - 0s 27us/step - loss: 80.5676 - accuracy: 0.0956 - val_loss: 96.6736 - val_accuracy: 0.0562\n",
      "Epoch 33/100\n",
      "638/638 [==============================] - 0s 25us/step - loss: 82.2629 - accuracy: 0.1285 - val_loss: 92.6655 - val_accuracy: 0.0688\n",
      "Epoch 34/100\n",
      "638/638 [==============================] - 0s 25us/step - loss: 79.7425 - accuracy: 0.1191 - val_loss: 102.1753 - val_accuracy: 0.0812\n",
      "Epoch 35/100\n",
      "638/638 [==============================] - 0s 25us/step - loss: 83.8525 - accuracy: 0.1129 - val_loss: 94.9378 - val_accuracy: 0.0688\n",
      "Epoch 36/100\n",
      "638/638 [==============================] - 0s 25us/step - loss: 81.4926 - accuracy: 0.1191 - val_loss: 98.4582 - val_accuracy: 0.0812\n",
      "Epoch 37/100\n",
      "638/638 [==============================] - 0s 28us/step - loss: 78.9671 - accuracy: 0.1317 - val_loss: 94.5461 - val_accuracy: 0.0500\n",
      "Epoch 38/100\n",
      "638/638 [==============================] - 0s 33us/step - loss: 78.2514 - accuracy: 0.1254 - val_loss: 97.8680 - val_accuracy: 0.0750\n",
      "Epoch 39/100\n",
      "638/638 [==============================] - 0s 27us/step - loss: 77.8521 - accuracy: 0.1223 - val_loss: 92.1319 - val_accuracy: 0.0875\n",
      "Epoch 40/100\n",
      "638/638 [==============================] - 0s 25us/step - loss: 76.6675 - accuracy: 0.1411 - val_loss: 95.7940 - val_accuracy: 0.0812\n",
      "Epoch 41/100\n",
      "638/638 [==============================] - 0s 28us/step - loss: 77.0370 - accuracy: 0.1395 - val_loss: 94.0300 - val_accuracy: 0.0750\n",
      "Epoch 42/100\n",
      "638/638 [==============================] - 0s 23us/step - loss: 75.3260 - accuracy: 0.1332 - val_loss: 94.4225 - val_accuracy: 0.0625\n",
      "Epoch 43/100\n",
      "638/638 [==============================] - 0s 23us/step - loss: 74.0750 - accuracy: 0.1614 - val_loss: 92.2194 - val_accuracy: 0.0437\n",
      "Epoch 44/100\n",
      "638/638 [==============================] - 0s 22us/step - loss: 73.5616 - accuracy: 0.1677 - val_loss: 99.0534 - val_accuracy: 0.0625\n",
      "Epoch 45/100\n",
      "638/638 [==============================] - 0s 25us/step - loss: 75.0701 - accuracy: 0.1426 - val_loss: 95.4300 - val_accuracy: 0.0750\n",
      "Epoch 46/100\n",
      "638/638 [==============================] - 0s 28us/step - loss: 74.7008 - accuracy: 0.1489 - val_loss: 98.1605 - val_accuracy: 0.0812\n",
      "Epoch 47/100\n",
      "638/638 [==============================] - 0s 33us/step - loss: 74.3243 - accuracy: 0.1677 - val_loss: 96.6954 - val_accuracy: 0.0562\n",
      "Epoch 48/100\n",
      "638/638 [==============================] - 0s 28us/step - loss: 71.6206 - accuracy: 0.1536 - val_loss: 95.6258 - val_accuracy: 0.0250\n",
      "Epoch 49/100\n",
      "638/638 [==============================] - 0s 28us/step - loss: 70.7608 - accuracy: 0.1536 - val_loss: 95.2900 - val_accuracy: 0.0625\n",
      "Epoch 50/100\n",
      "638/638 [==============================] - 0s 31us/step - loss: 69.9629 - accuracy: 0.1646 - val_loss: 97.5749 - val_accuracy: 0.0500\n",
      "Epoch 51/100\n",
      "638/638 [==============================] - 0s 39us/step - loss: 72.8479 - accuracy: 0.1473 - val_loss: 96.3113 - val_accuracy: 0.0688\n",
      "Epoch 52/100\n",
      "638/638 [==============================] - 0s 30us/step - loss: 71.6119 - accuracy: 0.1708 - val_loss: 100.6635 - val_accuracy: 0.0812\n",
      "Epoch 53/100\n",
      "638/638 [==============================] - 0s 31us/step - loss: 72.2438 - accuracy: 0.1661 - val_loss: 95.5728 - val_accuracy: 0.0625\n",
      "Epoch 54/100\n",
      "638/638 [==============================] - 0s 25us/step - loss: 71.2037 - accuracy: 0.1614 - val_loss: 97.2809 - val_accuracy: 0.0688\n",
      "Epoch 55/100\n",
      "638/638 [==============================] - 0s 25us/step - loss: 68.3521 - accuracy: 0.1646 - val_loss: 96.3447 - val_accuracy: 0.0750\n",
      "Epoch 56/100\n",
      "638/638 [==============================] - 0s 25us/step - loss: 69.3389 - accuracy: 0.1724 - val_loss: 97.5410 - val_accuracy: 0.1312\n",
      "Epoch 57/100\n",
      "638/638 [==============================] - 0s 23us/step - loss: 66.0118 - accuracy: 0.1975 - val_loss: 94.2121 - val_accuracy: 0.0688\n",
      "Epoch 58/100\n",
      "638/638 [==============================] - 0s 23us/step - loss: 66.2635 - accuracy: 0.1850 - val_loss: 98.3081 - val_accuracy: 0.0875\n",
      "Epoch 59/100\n",
      "638/638 [==============================] - 0s 25us/step - loss: 67.7836 - accuracy: 0.1771 - val_loss: 96.0440 - val_accuracy: 0.0625\n",
      "Epoch 60/100\n",
      "638/638 [==============================] - 0s 25us/step - loss: 67.6692 - accuracy: 0.1614 - val_loss: 97.4470 - val_accuracy: 0.0437\n",
      "Epoch 61/100\n",
      "638/638 [==============================] - 0s 25us/step - loss: 66.6402 - accuracy: 0.1724 - val_loss: 95.6163 - val_accuracy: 0.0812\n",
      "Epoch 62/100\n",
      "638/638 [==============================] - 0s 23us/step - loss: 66.2382 - accuracy: 0.1912 - val_loss: 100.7753 - val_accuracy: 0.0875\n",
      "Epoch 63/100\n",
      "638/638 [==============================] - 0s 25us/step - loss: 68.6511 - accuracy: 0.1850 - val_loss: 94.7351 - val_accuracy: 0.0437\n",
      "Epoch 64/100\n",
      "638/638 [==============================] - 0s 27us/step - loss: 64.1319 - accuracy: 0.1944 - val_loss: 97.8141 - val_accuracy: 0.0812\n",
      "Epoch 65/100\n",
      "638/638 [==============================] - 0s 27us/step - loss: 64.6865 - accuracy: 0.1991 - val_loss: 94.3078 - val_accuracy: 0.0437\n",
      "Epoch 66/100\n",
      "638/638 [==============================] - 0s 25us/step - loss: 62.4380 - accuracy: 0.1991 - val_loss: 98.2090 - val_accuracy: 0.0688\n",
      "Epoch 67/100\n",
      "638/638 [==============================] - 0s 23us/step - loss: 62.9763 - accuracy: 0.1771 - val_loss: 95.6941 - val_accuracy: 0.0562\n",
      "Epoch 68/100\n",
      "638/638 [==============================] - 0s 22us/step - loss: 63.1575 - accuracy: 0.1850 - val_loss: 95.6701 - val_accuracy: 0.0688\n",
      "Epoch 69/100\n",
      "638/638 [==============================] - 0s 23us/step - loss: 64.1687 - accuracy: 0.2100 - val_loss: 97.1023 - val_accuracy: 0.0625\n",
      "Epoch 70/100\n",
      "638/638 [==============================] - 0s 23us/step - loss: 64.0641 - accuracy: 0.1944 - val_loss: 97.8386 - val_accuracy: 0.0812\n",
      "Epoch 71/100\n",
      "638/638 [==============================] - 0s 23us/step - loss: 61.9509 - accuracy: 0.1881 - val_loss: 93.9073 - val_accuracy: 0.1125\n",
      "Epoch 72/100\n",
      "638/638 [==============================] - 0s 23us/step - loss: 58.1268 - accuracy: 0.2053 - val_loss: 97.1044 - val_accuracy: 0.0875\n",
      "Epoch 73/100\n",
      "638/638 [==============================] - 0s 23us/step - loss: 61.1618 - accuracy: 0.2022 - val_loss: 92.9851 - val_accuracy: 0.0312\n",
      "Epoch 74/100\n",
      "638/638 [==============================] - 0s 22us/step - loss: 57.2171 - accuracy: 0.2085 - val_loss: 96.4630 - val_accuracy: 0.1000\n",
      "Epoch 75/100\n",
      "638/638 [==============================] - 0s 23us/step - loss: 60.2636 - accuracy: 0.2226 - val_loss: 94.3216 - val_accuracy: 0.0750\n",
      "Epoch 76/100\n",
      "638/638 [==============================] - 0s 23us/step - loss: 59.3469 - accuracy: 0.2100 - val_loss: 101.8015 - val_accuracy: 0.0938\n",
      "Epoch 77/100\n",
      "638/638 [==============================] - 0s 22us/step - loss: 66.2766 - accuracy: 0.2179 - val_loss: 97.7835 - val_accuracy: 0.0688\n",
      "Epoch 78/100\n",
      "638/638 [==============================] - 0s 22us/step - loss: 63.9652 - accuracy: 0.2351 - val_loss: 104.1597 - val_accuracy: 0.0812\n",
      "Epoch 79/100\n",
      "638/638 [==============================] - 0s 22us/step - loss: 63.4948 - accuracy: 0.2351 - val_loss: 96.2286 - val_accuracy: 0.0688\n",
      "Epoch 80/100\n",
      "638/638 [==============================] - 0s 30us/step - loss: 61.2198 - accuracy: 0.2492 - val_loss: 98.3528 - val_accuracy: 0.0875\n",
      "Epoch 81/100\n",
      "638/638 [==============================] - 0s 25us/step - loss: 59.5725 - accuracy: 0.2367 - val_loss: 95.5168 - val_accuracy: 0.0500\n",
      "Epoch 82/100\n",
      "638/638 [==============================] - 0s 23us/step - loss: 58.4802 - accuracy: 0.2429 - val_loss: 101.3956 - val_accuracy: 0.0625\n",
      "Epoch 83/100\n",
      "638/638 [==============================] - 0s 34us/step - loss: 58.8034 - accuracy: 0.2414 - val_loss: 96.2594 - val_accuracy: 0.0437\n",
      "Epoch 84/100\n",
      "638/638 [==============================] - 0s 30us/step - loss: 59.0154 - accuracy: 0.2398 - val_loss: 102.1405 - val_accuracy: 0.0688\n",
      "Epoch 85/100\n",
      "638/638 [==============================] - 0s 30us/step - loss: 60.1923 - accuracy: 0.2304 - val_loss: 95.0295 - val_accuracy: 0.0875\n",
      "Epoch 86/100\n",
      "638/638 [==============================] - 0s 42us/step - loss: 56.2303 - accuracy: 0.2241 - val_loss: 98.6397 - val_accuracy: 0.0688\n",
      "Epoch 87/100\n",
      "638/638 [==============================] - 0s 39us/step - loss: 57.8516 - accuracy: 0.2461 - val_loss: 96.3461 - val_accuracy: 0.0750\n",
      "Epoch 88/100\n",
      "638/638 [==============================] - 0s 39us/step - loss: 55.7897 - accuracy: 0.2367 - val_loss: 98.8430 - val_accuracy: 0.1187\n",
      "Epoch 89/100\n",
      "638/638 [==============================] - 0s 44us/step - loss: 56.8538 - accuracy: 0.2461 - val_loss: 97.0061 - val_accuracy: 0.0688\n",
      "Epoch 90/100\n",
      "638/638 [==============================] - 0s 44us/step - loss: 57.0204 - accuracy: 0.2524 - val_loss: 104.7747 - val_accuracy: 0.0938\n",
      "Epoch 91/100\n",
      "638/638 [==============================] - 0s 47us/step - loss: 59.1330 - accuracy: 0.2492 - val_loss: 97.3979 - val_accuracy: 0.1000\n",
      "Epoch 92/100\n",
      "638/638 [==============================] - 0s 31us/step - loss: 56.5614 - accuracy: 0.2476 - val_loss: 103.0623 - val_accuracy: 0.0875\n",
      "Epoch 93/100\n",
      "638/638 [==============================] - 0s 30us/step - loss: 57.8357 - accuracy: 0.2476 - val_loss: 96.1935 - val_accuracy: 0.0688\n",
      "Epoch 94/100\n",
      "638/638 [==============================] - 0s 31us/step - loss: 55.6932 - accuracy: 0.2304 - val_loss: 97.3619 - val_accuracy: 0.0437\n",
      "Epoch 95/100\n",
      "638/638 [==============================] - 0s 31us/step - loss: 54.4177 - accuracy: 0.2414 - val_loss: 95.7594 - val_accuracy: 0.0812\n",
      "Epoch 96/100\n",
      "638/638 [==============================] - 0s 28us/step - loss: 52.5882 - accuracy: 0.2429 - val_loss: 95.4817 - val_accuracy: 0.0688\n",
      "Epoch 97/100\n",
      "638/638 [==============================] - 0s 28us/step - loss: 53.0617 - accuracy: 0.2367 - val_loss: 94.6504 - val_accuracy: 0.0812\n",
      "Epoch 98/100\n",
      "638/638 [==============================] - 0s 31us/step - loss: 53.0403 - accuracy: 0.2476 - val_loss: 97.4527 - val_accuracy: 0.0625\n",
      "Epoch 99/100\n",
      "638/638 [==============================] - 0s 28us/step - loss: 53.9898 - accuracy: 0.2884 - val_loss: 94.1958 - val_accuracy: 0.0812\n",
      "Epoch 100/100\n",
      "638/638 [==============================] - 0s 28us/step - loss: 53.1383 - accuracy: 0.2821 - val_loss: 103.1032 - val_accuracy: 0.0625\n"
     ]
    }
   ],
   "source": [
    "history = model.fit(X_train, y_train, validation_data = (X_test,y_test), epochs=training_epochs, batch_size=batch_size)"
   ]
  },
  {
   "cell_type": "code",
   "execution_count": 22,
   "metadata": {},
   "outputs": [
    {
     "name": "stdout",
     "output_type": "stream",
     "text": [
      "[718.36688232 181.54312134 750.88781738 167.82029724 822.49157715\n",
      " 115.64051819 834.37548828  72.7306366  793.40539551 176.15600586\n",
      " 907.43200684  91.83383179 874.44042969  88.77855682 956.53039551\n",
      "  88.87418365 838.09191895 157.66296387 641.89154053 149.71517944\n",
      " 784.02624512 128.50732422 982.84967041  57.9220047   28.82333374\n",
      "  43.27625656 719.50946045  76.93851471   0.         100.        ]\n",
      "[615.1973   157.9789   610.94385  115.49883  691.0693   147.79192\n",
      " 663.8217   122.003334 731.98364  100.21932  684.34845   92.90955\n",
      " 631.53723  100.867256 727.06775   67.88844  706.6729    74.79453\n",
      " 752.6026    84.831024 647.36053   94.66811  731.9088   107.00973\n",
      " 690.2951   110.30579  649.9582    76.2412   757.60345   75.26033 ]\n"
     ]
    }
   ],
   "source": [
    "prediction = model.predict(X_test)\n",
    "print(y_test[0])\n",
    "print(prediction[0])"
   ]
  },
  {
   "cell_type": "code",
   "execution_count": 23,
   "metadata": {},
   "outputs": [
    {
     "data": {
      "image/png": "[encoded data removed]",
      "text/plain": [
       "<Figure size 432x288 with 1 Axes>"
      ]
     },
     "metadata": {
      "needs_background": "light"
     },
     "output_type": "display_data"
    }
   ],
   "source": [
    "import matplotlib.pyplot as plt\n",
    "\n",
    "plt.plot(history.history['accuracy'])\n",
    "plt.plot(history.history['val_accuracy'])\n",
    "plt.title('Model accuracy')\n",
    "plt.ylabel('Accuracy')\n",
    "plt.xlabel('Epoch')\n",
    "plt.legend(['Train', 'Test'], loc='upper left')\n",
    "plt.show()"
   ]
  },
  {
   "cell_type": "code",
   "execution_count": 24,
   "metadata": {},
   "outputs": [
    {
     "data": {
      "image/png": "[encoded data removed]",
      "text/plain": [
       "<Figure size 432x288 with 1 Axes>"
      ]
     },
     "metadata": {
      "needs_background": "light"
     },
     "output_type": "display_data"
    }
   ],
   "source": [
    "plt.plot(history.history['loss'])\n",
    "plt.plot(history.history['val_loss']) \n",
    "plt.title('Model loss') \n",
    "plt.ylabel('Loss') \n",
    "plt.xlabel('Epoch') \n",
    "plt.legend(['Train', 'Test'], loc='upper left') \n",
    "plt.show()"
   ]
  },
  {
   "cell_type": "markdown",
   "metadata": {},
   "source": [
    "## Preprocess data differently (as entire image)"
   ]
  },
  {
   "cell_type": "code",
   "execution_count": 25,
   "metadata": {},
   "outputs": [],
   "source": [
    "def resize_keep_ratio(img, scale_percent):\n",
    "    \n",
    "    scale_percent = scale_percent # percent of original size\n",
    "    width = int(img.shape[1] * scale_percent / 100)\n",
    "    height = int(img.shape[0] * scale_percent / 100)\n",
    "    dim = (width, height)\n",
    "    # resize image\n",
    "    resized = cv2.resize(img, dim, interpolation = cv2.INTER_AREA)\n",
    "\n",
    "    return resized"
   ]
  },
  {
   "cell_type": "code",
   "execution_count": 26,
   "metadata": {},
   "outputs": [],
   "source": [
    "directory = 'Rec_EDGE_300K_1L_50MA.out'\n",
    "\n",
    "frames = None\n",
    "\n",
    "for filename in os.listdir(directory):\n",
    "    # if png\n",
    "    if filename.endswith(\".png\"):\n",
    "        # Read image\n",
    "        image = os.path.join(directory, filename)\n",
    "        im = cv2.imread(image, cv2.IMREAD_GRAYSCALE)\n",
    "\n",
    "        im = resize_keep_ratio(im, 20)\n",
    "        ret, im = cv2.threshold(im, 127,255, cv2.THRESH_BINARY)\n",
    "        im = im.flatten()\n",
    "        \n",
    "        frames = np.append(frames, [im], axis=0) if frames is not None else [im]\n",
    "        \n",
    "frames = frames / 255.0"
   ]
  },
  {
   "cell_type": "markdown",
   "metadata": {},
   "source": [
    "**Make data samples**"
   ]
  },
  {
   "cell_type": "code",
   "execution_count": 27,
   "metadata": {},
   "outputs": [],
   "source": [
    "# Samples are (frame, next_frame)\n",
    "\n",
    "X = frames[:-1]\n",
    "y = frames[1:]"
   ]
  },
  {
   "cell_type": "markdown",
   "metadata": {},
   "source": [
    "**Split data for training and testing**"
   ]
  },
  {
   "cell_type": "code",
   "execution_count": 28,
   "metadata": {},
   "outputs": [],
   "source": [
    "from sklearn.model_selection import train_test_split\n",
    "\n",
    "X_train, X_test, y_train, y_test = train_test_split(X, y, test_size=0.2, random_state=5)"
   ]
  },
  {
   "cell_type": "code",
   "execution_count": 29,
   "metadata": {},
   "outputs": [
    {
     "name": "stdout",
     "output_type": "stream",
     "text": [
      "X_train shape: (639, 8000)\n",
      "y_train shape: (639, 8000)\n",
      "X_test shape: (160, 8000)\n",
      "y_test shape: (160, 8000)\n"
     ]
    }
   ],
   "source": [
    "print(\"X_train shape: \" + str(X_train.shape))\n",
    "print(\"y_train shape: \" + str(y_train.shape))\n",
    "print(\"X_test shape: \" + str(X_test.shape))\n",
    "print(\"y_test shape: \" + str(y_test.shape))"
   ]
  },
  {
   "cell_type": "markdown",
   "metadata": {},
   "source": [
    "**Hyperparameters**"
   ]
  },
  {
   "cell_type": "code",
   "execution_count": 30,
   "metadata": {},
   "outputs": [],
   "source": [
    "optimizer = 'adam'\n",
    "loss = 'mae'\n",
    "metrics = ['binary_accuracy']\n",
    "training_epochs = 25\n",
    "batch_size = 64\n",
    "\n",
    "n_input = X_train.shape[1]\n",
    "n_output = y_train.shape[1]"
   ]
  },
  {
   "cell_type": "markdown",
   "metadata": {},
   "source": [
    "**Build Neural Network**"
   ]
  },
  {
   "cell_type": "code",
   "execution_count": 31,
   "metadata": {},
   "outputs": [],
   "source": [
    "#Dependencies\n",
    "import keras\n",
    "from keras.models import Sequential\n",
    "from keras.layers import Dense\n",
    "\n",
    "# Neural network\n",
    "model = Sequential()\n",
    "model.add(Dense(500, input_dim=n_input, activation='relu'))\n",
    "model.add(Dense(500, activation='relu'))\n",
    "model.add(Dense(500, activation='relu'))\n",
    "model.add(Dense(n_output, activation='tanh'))"
   ]
  },
  {
   "cell_type": "code",
   "execution_count": 32,
   "metadata": {},
   "outputs": [],
   "source": [
    "model.compile(loss=loss, optimizer=optimizer, metrics=metrics)"
   ]
  },
  {
   "cell_type": "code",
   "execution_count": 33,
   "metadata": {},
   "outputs": [
    {
     "name": "stdout",
     "output_type": "stream",
     "text": [
      "Train on 639 samples, validate on 160 samples\n",
      "Epoch 1/25\n",
      "639/639 [==============================] - 1s 2ms/step - loss: 0.1901 - binary_accuracy: 0.8323 - val_loss: 0.0113 - val_binary_accuracy: 0.9887\n",
      "Epoch 2/25\n",
      "639/639 [==============================] - 1s 2ms/step - loss: 0.0113 - binary_accuracy: 0.9887 - val_loss: 0.0113 - val_binary_accuracy: 0.9887\n",
      "Epoch 3/25\n",
      "639/639 [==============================] - 1s 1ms/step - loss: 0.0113 - binary_accuracy: 0.9887 - val_loss: 0.0113 - val_binary_accuracy: 0.9887\n",
      "Epoch 4/25\n",
      "639/639 [==============================] - 1s 1ms/step - loss: 0.0113 - binary_accuracy: 0.9887 - val_loss: 0.0113 - val_binary_accuracy: 0.9887\n",
      "Epoch 5/25\n",
      "639/639 [==============================] - 1s 1ms/step - loss: 0.0113 - binary_accuracy: 0.9887 - val_loss: 0.0113 - val_binary_accuracy: 0.9887\n",
      "Epoch 6/25\n",
      "639/639 [==============================] - 1s 2ms/step - loss: 0.0113 - binary_accuracy: 0.9887 - val_loss: 0.0113 - val_binary_accuracy: 0.9887\n",
      "Epoch 7/25\n",
      "639/639 [==============================] - 1s 1ms/step - loss: 0.0113 - binary_accuracy: 0.9887 - val_loss: 0.0113 - val_binary_accuracy: 0.9887\n",
      "Epoch 8/25\n",
      "639/639 [==============================] - 1s 1ms/step - loss: 0.0113 - binary_accuracy: 0.9887 - val_loss: 0.0113 - val_binary_accuracy: 0.9887\n",
      "Epoch 9/25\n",
      "639/639 [==============================] - 1s 1ms/step - loss: 0.0113 - binary_accuracy: 0.9887 - val_loss: 0.0113 - val_binary_accuracy: 0.9887\n",
      "Epoch 10/25\n",
      "639/639 [==============================] - 1s 1ms/step - loss: 0.0113 - binary_accuracy: 0.9887 - val_loss: 0.0113 - val_binary_accuracy: 0.9887\n",
      "Epoch 11/25\n",
      "639/639 [==============================] - 1s 1ms/step - loss: 0.0113 - binary_accuracy: 0.9887 - val_loss: 0.0113 - val_binary_accuracy: 0.9887\n",
      "Epoch 12/25\n",
      "639/639 [==============================] - 1s 1ms/step - loss: 0.0113 - binary_accuracy: 0.9887 - val_loss: 0.0113 - val_binary_accuracy: 0.9887\n",
      "Epoch 13/25\n",
      "639/639 [==============================] - 1s 1ms/step - loss: 0.0113 - binary_accuracy: 0.9887 - val_loss: 0.0113 - val_binary_accuracy: 0.9887\n",
      "Epoch 14/25\n",
      "639/639 [==============================] - 1s 1ms/step - loss: 0.0113 - binary_accuracy: 0.9887 - val_loss: 0.0113 - val_binary_accuracy: 0.9887\n",
      "Epoch 15/25\n",
      "639/639 [==============================] - 1s 1ms/step - loss: 0.0113 - binary_accuracy: 0.9887 - val_loss: 0.0113 - val_binary_accuracy: 0.9887\n",
      "Epoch 16/25\n",
      "639/639 [==============================] - 1s 1ms/step - loss: 0.0113 - binary_accuracy: 0.9887 - val_loss: 0.0113 - val_binary_accuracy: 0.9887\n",
      "Epoch 17/25\n",
      "639/639 [==============================] - 1s 1ms/step - loss: 0.0113 - binary_accuracy: 0.9887 - val_loss: 0.0113 - val_binary_accuracy: 0.9887\n",
      "Epoch 18/25\n",
      "639/639 [==============================] - 1s 2ms/step - loss: 0.0113 - binary_accuracy: 0.9887 - val_loss: 0.0113 - val_binary_accuracy: 0.9887\n",
      "Epoch 19/25\n",
      "639/639 [==============================] - 1s 2ms/step - loss: 0.0113 - binary_accuracy: 0.9887 - val_loss: 0.0113 - val_binary_accuracy: 0.9887\n",
      "Epoch 20/25\n",
      "639/639 [==============================] - 1s 2ms/step - loss: 0.0113 - binary_accuracy: 0.9887 - val_loss: 0.0113 - val_binary_accuracy: 0.9887\n",
      "Epoch 21/25\n",
      "639/639 [==============================] - 1s 1ms/step - loss: 0.0113 - binary_accuracy: 0.9887 - val_loss: 0.0113 - val_binary_accuracy: 0.9887\n",
      "Epoch 22/25\n",
      "639/639 [==============================] - 1s 1ms/step - loss: 0.0113 - binary_accuracy: 0.9887 - val_loss: 0.0113 - val_binary_accuracy: 0.9887\n",
      "Epoch 23/25\n",
      "639/639 [==============================] - 1s 1ms/step - loss: 0.0113 - binary_accuracy: 0.9887 - val_loss: 0.0113 - val_binary_accuracy: 0.9887\n",
      "Epoch 24/25\n",
      "639/639 [==============================] - 1s 1ms/step - loss: 0.0113 - binary_accuracy: 0.9887 - val_loss: 0.0113 - val_binary_accuracy: 0.9887\n",
      "Epoch 25/25\n",
      "639/639 [==============================] - 1s 1ms/step - loss: 0.0113 - binary_accuracy: 0.9887 - val_loss: 0.0113 - val_binary_accuracy: 0.9887\n"
     ]
    }
   ],
   "source": [
    "history = model.fit(X_train, y_train, validation_data = (X_test,y_test), epochs=training_epochs, batch_size=batch_size)"
   ]
  },
  {
   "cell_type": "code",
   "execution_count": 34,
   "metadata": {},
   "outputs": [],
   "source": [
    "prediction = model.predict(X_test)"
   ]
  },
  {
   "cell_type": "markdown",
   "metadata": {},
   "source": [
    "**Predict of test data**"
   ]
  },
  {
   "cell_type": "code",
   "execution_count": 35,
   "metadata": {},
   "outputs": [
    {
     "data": {
      "image/png": "[encoded data removed]",
      "text/plain": [
       "<Figure size 432x288 with 1 Axes>"
      ]
     },
     "metadata": {
      "needs_background": "light"
     },
     "output_type": "display_data"
    }
   ],
   "source": [
    "import matplotlib.pyplot as plt\n",
    "\n",
    "plt.plot(history.history['binary_accuracy'])\n",
    "plt.plot(history.history['val_binary_accuracy'])\n",
    "plt.title('Model binary accuracy')\n",
    "plt.ylabel('Binary accuracy')\n",
    "plt.xlabel('Epoch')\n",
    "plt.legend(['Train', 'Test'], loc='upper left')\n",
    "plt.show()"
   ]
  },
  {
   "cell_type": "code",
   "execution_count": 36,
   "metadata": {},
   "outputs": [
    {
     "data": {
      "image/png": "[encoded data removed]",
      "text/plain": [
       "<Figure size 432x288 with 1 Axes>"
      ]
     },
     "metadata": {
      "needs_background": "light"
     },
     "output_type": "display_data"
    }
   ],
   "source": [
    "plt.plot(history.history['loss'])\n",
    "plt.plot(history.history['val_loss']) \n",
    "plt.title('Model loss') \n",
    "plt.ylabel('Loss') \n",
    "plt.xlabel('Epoch') \n",
    "plt.legend(['Train', 'Test'], loc='upper left') \n",
    "plt.show()"
   ]
  },
  {
   "cell_type": "code",
   "execution_count": null,
   "metadata": {},
   "outputs": [],
   "source": []
  }
 ],
 "metadata": {
  "kernelspec": {
   "display_name": "Python 3.8.3 64-bit",
   "language": "python",
   "name": "python38364bitf17e3ae0e0b5412f8624a209625ef4a0"
  },
  "language_info": {
   "codemirror_mode": {
    "name": "ipython",
    "version": 3
   },
   "file_extension": ".py",
   "mimetype": "text/x-python",
   "name": "python",
   "nbconvert_exporter": "python",
   "pygments_lexer": "ipython3",
   "version": "3.8.3"
  }
 },
 "nbformat": 4,
 "nbformat_minor": 4
}
