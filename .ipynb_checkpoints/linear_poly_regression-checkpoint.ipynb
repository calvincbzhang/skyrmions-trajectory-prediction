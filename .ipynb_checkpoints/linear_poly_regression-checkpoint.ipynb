{
 "cells": [
  {
   "cell_type": "markdown",
   "metadata": {},
   "source": [
    "**Imports**"
   ]
  },
  {
   "cell_type": "code",
   "execution_count": 1,
   "metadata": {},
   "outputs": [],
   "source": [
    "# Standard imports\n",
    "import cv2\n",
    "import numpy as np;\n",
    "import os\n",
    "import pandas as pd\n",
    "from sklearn.model_selection import train_test_split\n",
    "from sklearn.linear_model import LinearRegression\n",
    "from sklearn.metrics import mean_squared_error, r2_score"
   ]
  },
  {
   "cell_type": "markdown",
   "metadata": {},
   "source": [
    "**Blob detector to detect skyrmions**"
   ]
  },
  {
   "cell_type": "code",
   "execution_count": 2,
   "metadata": {},
   "outputs": [],
   "source": [
    "# Blob detecotor parameters\n",
    "params = cv2.SimpleBlobDetector_Params()\n",
    "\n",
    "# Change thresholds\n",
    "params.minThreshold = 10\n",
    "params.maxThreshold = 200\n",
    "\n",
    "# Filter by Area.\n",
    "params.filterByArea = True\n",
    "params.minArea = 10\n",
    "\n",
    "# Filter by Circularity\n",
    "params.filterByCircularity = True\n",
    "params.minCircularity = 0.1\n",
    "\n",
    "# Filter by Convexity\n",
    "params.filterByConvexity = True\n",
    "params.minConvexity = 0.87\n",
    "    \n",
    "# Filter by Inertia\n",
    "params.filterByInertia = True\n",
    "params.minInertiaRatio = 0.01\n",
    "\n",
    "# Different versions\n",
    "ver = (cv2.__version__).split('.')\n",
    "if int(ver[0]) < 3:\n",
    "    detector = cv2.SimpleBlobDetector(params)\n",
    "else: \n",
    "    detector = cv2.SimpleBlobDetector_create(params)"
   ]
  },
  {
   "cell_type": "markdown",
   "metadata": {},
   "source": [
    "**Detect skyrmions**"
   ]
  },
  {
   "cell_type": "code",
   "execution_count": 3,
   "metadata": {
    "tags": [
     "outputPrepend"
    ]
   },
   "outputs": [],
   "source": [
    "directory = 'Rec_EDGE_300K_1L_50MA.out'\n",
    "\n",
    "frames = []\n",
    "\n",
    "no_skyrmions = 15\n",
    "\n",
    "for filename in os.listdir(directory):\n",
    "    # if png\n",
    "    if filename.endswith(\".png\"):\n",
    "        coordinates = None\n",
    "        # Read image\n",
    "        image = os.path.join(directory, filename)\n",
    "        im = cv2.imread(image, cv2.IMREAD_GRAYSCALE)\n",
    "\n",
    "        # Detect\n",
    "        detector.empty()\n",
    "        keypoints = detector.detect(im)\n",
    "        \n",
    "        for p in keypoints:\n",
    "            coordinates = np.append(coordinates, [p.pt[0], p.pt[1]]) if coordinates is not None else [p.pt[0], p.pt[1]]\n",
    "            \n",
    "        # if skyrmions arenot detected, then they are at the border of the image\n",
    "        # impute putting them in the centre on the left side of the image\n",
    "        while (len(coordinates) < 2 * no_skyrmions):\n",
    "            coordinates = np.append(coordinates, [0, im.shape[:2][0] / 2]) if coordinates is not None else [0, im.shape[:2][0] / 2]\n",
    "                               \n",
    "        frames.append(list(coordinates))"
   ]
  },
  {
   "cell_type": "markdown",
   "metadata": {},
   "source": [
    "**Save data to file**"
   ]
  },
  {
   "cell_type": "code",
   "execution_count": 4,
   "metadata": {
    "tags": [
     "outputPrepend",
     "outputPrepend"
    ]
   },
   "outputs": [],
   "source": [
    "# Save frames to file\n",
    "with open('frames.txt', 'w') as f:\n",
    "    for frame in frames:\n",
    "        for i in range(0, len(frame), 2):\n",
    "            f.write('(' + str(frame[i]) + ', ' + str(frame[i+1]) + '), ')\n",
    "        f.write('\\n\\n')"
   ]
  },
  {
   "cell_type": "markdown",
   "metadata": {},
   "source": [
    "**Place data in dataframe**"
   ]
  },
  {
   "cell_type": "code",
   "execution_count": 5,
   "metadata": {},
   "outputs": [
    {
     "data": {
      "text/html": [
       "<div>\n",
       "<style scoped>\n",
       "    .dataframe tbody tr th:only-of-type {\n",
       "        vertical-align: middle;\n",
       "    }\n",
       "\n",
       "    .dataframe tbody tr th {\n",
       "        vertical-align: top;\n",
       "    }\n",
       "\n",
       "    .dataframe thead th {\n",
       "        text-align: right;\n",
       "    }\n",
       "</style>\n",
       "<table border=\"1\" class=\"dataframe\">\n",
       "  <thead>\n",
       "    <tr style=\"text-align: right;\">\n",
       "      <th></th>\n",
       "      <th>frame</th>\n",
       "      <th>next_frame</th>\n",
       "    </tr>\n",
       "  </thead>\n",
       "  <tbody>\n",
       "    <tr>\n",
       "      <th>0</th>\n",
       "      <td>[71.79793548583984, 179.53582763671875, 30.651...</td>\n",
       "      <td>[83.91636657714844, 180.03187561035156, 121.75...</td>\n",
       "    </tr>\n",
       "    <tr>\n",
       "      <th>1</th>\n",
       "      <td>[83.91636657714844, 180.03187561035156, 121.75...</td>\n",
       "      <td>[94.73966217041016, 179.82919311523438, 56.100...</td>\n",
       "    </tr>\n",
       "    <tr>\n",
       "      <th>2</th>\n",
       "      <td>[94.73966217041016, 179.82919311523438, 56.100...</td>\n",
       "      <td>[130.58045959472656, 159.17333984375, 146.4812...</td>\n",
       "    </tr>\n",
       "    <tr>\n",
       "      <th>3</th>\n",
       "      <td>[130.58045959472656, 159.17333984375, 146.4812...</td>\n",
       "      <td>[115.47341918945312, 178.807861328125, 74.3923...</td>\n",
       "    </tr>\n",
       "    <tr>\n",
       "      <th>4</th>\n",
       "      <td>[115.47341918945312, 178.807861328125, 74.3923...</td>\n",
       "      <td>[130.07960510253906, 180.80287170410156, 83.26...</td>\n",
       "    </tr>\n",
       "    <tr>\n",
       "      <th>...</th>\n",
       "      <td>...</td>\n",
       "      <td>...</td>\n",
       "    </tr>\n",
       "    <tr>\n",
       "      <th>794</th>\n",
       "      <td>[759.0730590820312, 158.21380615234375, 696.59...</td>\n",
       "      <td>[766.320556640625, 157.91192626953125, 983.126...</td>\n",
       "    </tr>\n",
       "    <tr>\n",
       "      <th>795</th>\n",
       "      <td>[766.320556640625, 157.91192626953125, 983.126...</td>\n",
       "      <td>[992.1935424804688, 161.09410095214844, 777.61...</td>\n",
       "    </tr>\n",
       "    <tr>\n",
       "      <th>796</th>\n",
       "      <td>[992.1935424804688, 161.09410095214844, 777.61...</td>\n",
       "      <td>[572.3209228515625, 148.3568878173828, 912.637...</td>\n",
       "    </tr>\n",
       "    <tr>\n",
       "      <th>797</th>\n",
       "      <td>[572.3209228515625, 148.3568878173828, 912.637...</td>\n",
       "      <td>[797.6422119140625, 157.04588317871094, 743.31...</td>\n",
       "    </tr>\n",
       "    <tr>\n",
       "      <th>798</th>\n",
       "      <td>[797.6422119140625, 157.04588317871094, 743.31...</td>\n",
       "      <td>[27.298126220703125, 160.57774353027344, 602.3...</td>\n",
       "    </tr>\n",
       "  </tbody>\n",
       "</table>\n",
       "<p>799 rows × 2 columns</p>\n",
       "</div>"
      ],
      "text/plain": [
       "                                                 frame  \\\n",
       "0    [71.79793548583984, 179.53582763671875, 30.651...   \n",
       "1    [83.91636657714844, 180.03187561035156, 121.75...   \n",
       "2    [94.73966217041016, 179.82919311523438, 56.100...   \n",
       "3    [130.58045959472656, 159.17333984375, 146.4812...   \n",
       "4    [115.47341918945312, 178.807861328125, 74.3923...   \n",
       "..                                                 ...   \n",
       "794  [759.0730590820312, 158.21380615234375, 696.59...   \n",
       "795  [766.320556640625, 157.91192626953125, 983.126...   \n",
       "796  [992.1935424804688, 161.09410095214844, 777.61...   \n",
       "797  [572.3209228515625, 148.3568878173828, 912.637...   \n",
       "798  [797.6422119140625, 157.04588317871094, 743.31...   \n",
       "\n",
       "                                            next_frame  \n",
       "0    [83.91636657714844, 180.03187561035156, 121.75...  \n",
       "1    [94.73966217041016, 179.82919311523438, 56.100...  \n",
       "2    [130.58045959472656, 159.17333984375, 146.4812...  \n",
       "3    [115.47341918945312, 178.807861328125, 74.3923...  \n",
       "4    [130.07960510253906, 180.80287170410156, 83.26...  \n",
       "..                                                 ...  \n",
       "794  [766.320556640625, 157.91192626953125, 983.126...  \n",
       "795  [992.1935424804688, 161.09410095214844, 777.61...  \n",
       "796  [572.3209228515625, 148.3568878173828, 912.637...  \n",
       "797  [797.6422119140625, 157.04588317871094, 743.31...  \n",
       "798  [27.298126220703125, 160.57774353027344, 602.3...  \n",
       "\n",
       "[799 rows x 2 columns]"
      ]
     },
     "execution_count": 5,
     "metadata": {},
     "output_type": "execute_result"
    }
   ],
   "source": [
    "# data in columns ['frame', 'next_frame']\n",
    "data = pd.DataFrame(columns=['frame', 'next_frame'])\n",
    "\n",
    "for i in range(1, len(frames)):\n",
    "    data = data.append({'frame': frames[i-1], 'next_frame': frames[i]}, ignore_index=True)\n",
    "\n",
    "data"
   ]
  },
  {
   "cell_type": "markdown",
   "metadata": {},
   "source": [
    "**Split data for training and testing**"
   ]
  },
  {
   "cell_type": "code",
   "execution_count": 6,
   "metadata": {},
   "outputs": [],
   "source": [
    "X = data['frame'].tolist()\n",
    "y = data['next_frame'].tolist()\n",
    "\n",
    "X_train, X_test, y_train, y_test = train_test_split(X, y, test_size=0.2, random_state=1)"
   ]
  },
  {
   "cell_type": "markdown",
   "metadata": {},
   "source": [
    "**Train model**"
   ]
  },
  {
   "cell_type": "code",
   "execution_count": 7,
   "metadata": {},
   "outputs": [
    {
     "data": {
      "text/plain": [
       "LinearRegression()"
      ]
     },
     "execution_count": 7,
     "metadata": {},
     "output_type": "execute_result"
    }
   ],
   "source": [
    "lin_model = LinearRegression()\n",
    "lin_model.fit(X_train, y_train)"
   ]
  },
  {
   "cell_type": "markdown",
   "metadata": {},
   "source": [
    "**Model evaluation**"
   ]
  },
  {
   "cell_type": "code",
   "execution_count": 8,
   "metadata": {},
   "outputs": [
    {
     "name": "stdout",
     "output_type": "stream",
     "text": [
      "The model performance for training set\n",
      "--------------------------------------\n",
      "RMSE is 150.20305934408555\n",
      "R2 score is 0.2744154199552889\n",
      "\n",
      "\n",
      "The model performance for testing set\n",
      "--------------------------------------\n",
      "RMSE is 160.2090833194318\n",
      "R2 score is 0.18451063184527666\n"
     ]
    }
   ],
   "source": [
    "# model evaluation for training set\n",
    "y_train_predict = lin_model.predict(X_train)\n",
    "rmse = (np.sqrt(mean_squared_error(y_train, y_train_predict)))\n",
    "r2 = r2_score(y_train, y_train_predict)\n",
    "\n",
    "print(\"The model performance for training set\")\n",
    "print(\"--------------------------------------\")\n",
    "print('RMSE is {}'.format(rmse))\n",
    "print('R2 score is {}'.format(r2))\n",
    "print(\"\\n\")\n",
    "\n",
    "# model evaluation for testing set\n",
    "y_test_predict = lin_model.predict(X_test)\n",
    "rmse = (np.sqrt(mean_squared_error(y_test, y_test_predict)))\n",
    "r2 = r2_score(y_test, y_test_predict)\n",
    "\n",
    "print(\"The model performance for testing set\")\n",
    "print(\"--------------------------------------\")\n",
    "print('RMSE is {}'.format(rmse))\n",
    "print('R2 score is {}'.format(r2))"
   ]
  },
  {
   "cell_type": "code",
   "execution_count": null,
   "metadata": {},
   "outputs": [],
   "source": []
  }
 ],
 "metadata": {
  "kernelspec": {
   "display_name": "Python 3.8.3 32-bit",
   "language": "python",
   "name": "python38332bit33657c2f70cb4b17af725b7a58eba858"
  },
  "language_info": {
   "codemirror_mode": {
    "name": "ipython",
    "version": 3
   },
   "file_extension": ".py",
   "mimetype": "text/x-python",
   "name": "python",
   "nbconvert_exporter": "python",
   "pygments_lexer": "ipython3",
   "version": "3.8.3"
  }
 },
 "nbformat": 4,
 "nbformat_minor": 4
}
