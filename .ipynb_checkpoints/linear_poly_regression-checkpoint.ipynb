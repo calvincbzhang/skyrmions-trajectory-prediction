{
 "cells": [
  {
   "cell_type": "markdown",
   "metadata": {},
   "source": [
    "## Linear and Polynomial Regression for Skyrmion trajectories prediction"
   ]
  },
  {
   "cell_type": "markdown",
   "metadata": {},
   "source": [
    "**Imports**"
   ]
  },
  {
   "cell_type": "code",
   "execution_count": 1,
   "metadata": {},
   "outputs": [],
   "source": [
    "# Standard imports\n",
    "import pandas as pd\n",
    "import numpy as np\n",
    "\n",
    "from tqdm import tqdm  # for progress bar"
   ]
  },
  {
   "cell_type": "markdown",
   "metadata": {},
   "source": [
    "**Read the data**"
   ]
  },
  {
   "cell_type": "code",
   "execution_count": 2,
   "metadata": {},
   "outputs": [
    {
     "data": {
      "text/html": [
       "<div>\n",
       "<style scoped>\n",
       "    .dataframe tbody tr th:only-of-type {\n",
       "        vertical-align: middle;\n",
       "    }\n",
       "\n",
       "    .dataframe tbody tr th {\n",
       "        vertical-align: top;\n",
       "    }\n",
       "\n",
       "    .dataframe thead th {\n",
       "        text-align: right;\n",
       "    }\n",
       "</style>\n",
       "<table border=\"1\" class=\"dataframe\">\n",
       "  <thead>\n",
       "    <tr style=\"text-align: right;\">\n",
       "      <th></th>\n",
       "      <th>Unnamed: 0</th>\n",
       "      <th>y</th>\n",
       "      <th>x</th>\n",
       "      <th>mass</th>\n",
       "      <th>size</th>\n",
       "      <th>ecc</th>\n",
       "      <th>signal</th>\n",
       "      <th>raw_mass</th>\n",
       "      <th>ep</th>\n",
       "      <th>frame</th>\n",
       "      <th>particle</th>\n",
       "    </tr>\n",
       "  </thead>\n",
       "  <tbody>\n",
       "    <tr>\n",
       "      <th>0</th>\n",
       "      <td>0</td>\n",
       "      <td>24.420047</td>\n",
       "      <td>61.809992</td>\n",
       "      <td>33.895088</td>\n",
       "      <td>3.785002</td>\n",
       "      <td>0.048289</td>\n",
       "      <td>0.451671</td>\n",
       "      <td>91.250977</td>\n",
       "      <td>0.000493</td>\n",
       "      <td>0</td>\n",
       "      <td>0</td>\n",
       "    </tr>\n",
       "    <tr>\n",
       "      <th>1</th>\n",
       "      <td>1</td>\n",
       "      <td>31.518261</td>\n",
       "      <td>109.009463</td>\n",
       "      <td>33.850101</td>\n",
       "      <td>3.792741</td>\n",
       "      <td>0.067499</td>\n",
       "      <td>0.455270</td>\n",
       "      <td>91.282349</td>\n",
       "      <td>0.000493</td>\n",
       "      <td>0</td>\n",
       "      <td>1</td>\n",
       "    </tr>\n",
       "    <tr>\n",
       "      <th>2</th>\n",
       "      <td>2</td>\n",
       "      <td>51.658864</td>\n",
       "      <td>41.007417</td>\n",
       "      <td>34.208199</td>\n",
       "      <td>3.811746</td>\n",
       "      <td>0.062159</td>\n",
       "      <td>0.449871</td>\n",
       "      <td>92.517654</td>\n",
       "      <td>0.000486</td>\n",
       "      <td>0</td>\n",
       "      <td>2</td>\n",
       "    </tr>\n",
       "    <tr>\n",
       "      <th>3</th>\n",
       "      <td>3</td>\n",
       "      <td>60.994689</td>\n",
       "      <td>82.173861</td>\n",
       "      <td>34.559098</td>\n",
       "      <td>3.818268</td>\n",
       "      <td>0.046138</td>\n",
       "      <td>0.455270</td>\n",
       "      <td>93.368622</td>\n",
       "      <td>0.000482</td>\n",
       "      <td>0</td>\n",
       "      <td>3</td>\n",
       "    </tr>\n",
       "    <tr>\n",
       "      <th>4</th>\n",
       "      <td>4</td>\n",
       "      <td>61.572998</td>\n",
       "      <td>129.252586</td>\n",
       "      <td>33.747531</td>\n",
       "      <td>3.807508</td>\n",
       "      <td>0.059245</td>\n",
       "      <td>0.453470</td>\n",
       "      <td>91.835289</td>\n",
       "      <td>0.000490</td>\n",
       "      <td>0</td>\n",
       "      <td>4</td>\n",
       "    </tr>\n",
       "  </tbody>\n",
       "</table>\n",
       "</div>"
      ],
      "text/plain": [
       "   Unnamed: 0          y           x       mass      size       ecc    signal  \\\n",
       "0           0  24.420047   61.809992  33.895088  3.785002  0.048289  0.451671   \n",
       "1           1  31.518261  109.009463  33.850101  3.792741  0.067499  0.455270   \n",
       "2           2  51.658864   41.007417  34.208199  3.811746  0.062159  0.449871   \n",
       "3           3  60.994689   82.173861  34.559098  3.818268  0.046138  0.455270   \n",
       "4           4  61.572998  129.252586  33.747531  3.807508  0.059245  0.453470   \n",
       "\n",
       "    raw_mass        ep  frame  particle  \n",
       "0  91.250977  0.000493      0         0  \n",
       "1  91.282349  0.000493      0         1  \n",
       "2  92.517654  0.000486      0         2  \n",
       "3  93.368622  0.000482      0         3  \n",
       "4  91.835289  0.000490      0         4  "
      ]
     },
     "execution_count": 2,
     "metadata": {},
     "output_type": "execute_result"
    }
   ],
   "source": [
    "directory = 'Rec_EDGE_300K_1L_50MA.out'\n",
    "\n",
    "data = pd.read_csv(directory + '/trajectories.csv')\n",
    "data.head()"
   ]
  },
  {
   "cell_type": "markdown",
   "metadata": {},
   "source": [
    "**Drop the unused columns**"
   ]
  },
  {
   "cell_type": "code",
   "execution_count": 3,
   "metadata": {},
   "outputs": [
    {
     "data": {
      "text/html": [
       "<div>\n",
       "<style scoped>\n",
       "    .dataframe tbody tr th:only-of-type {\n",
       "        vertical-align: middle;\n",
       "    }\n",
       "\n",
       "    .dataframe tbody tr th {\n",
       "        vertical-align: top;\n",
       "    }\n",
       "\n",
       "    .dataframe thead th {\n",
       "        text-align: right;\n",
       "    }\n",
       "</style>\n",
       "<table border=\"1\" class=\"dataframe\">\n",
       "  <thead>\n",
       "    <tr style=\"text-align: right;\">\n",
       "      <th></th>\n",
       "      <th>y</th>\n",
       "      <th>x</th>\n",
       "      <th>frame</th>\n",
       "      <th>particle</th>\n",
       "    </tr>\n",
       "  </thead>\n",
       "  <tbody>\n",
       "    <tr>\n",
       "      <th>0</th>\n",
       "      <td>24.420047</td>\n",
       "      <td>61.809992</td>\n",
       "      <td>0</td>\n",
       "      <td>0</td>\n",
       "    </tr>\n",
       "    <tr>\n",
       "      <th>1</th>\n",
       "      <td>31.518261</td>\n",
       "      <td>109.009463</td>\n",
       "      <td>0</td>\n",
       "      <td>1</td>\n",
       "    </tr>\n",
       "    <tr>\n",
       "      <th>2</th>\n",
       "      <td>51.658864</td>\n",
       "      <td>41.007417</td>\n",
       "      <td>0</td>\n",
       "      <td>2</td>\n",
       "    </tr>\n",
       "    <tr>\n",
       "      <th>3</th>\n",
       "      <td>60.994689</td>\n",
       "      <td>82.173861</td>\n",
       "      <td>0</td>\n",
       "      <td>3</td>\n",
       "    </tr>\n",
       "    <tr>\n",
       "      <th>4</th>\n",
       "      <td>61.572998</td>\n",
       "      <td>129.252586</td>\n",
       "      <td>0</td>\n",
       "      <td>4</td>\n",
       "    </tr>\n",
       "  </tbody>\n",
       "</table>\n",
       "</div>"
      ],
      "text/plain": [
       "           y           x  frame  particle\n",
       "0  24.420047   61.809992      0         0\n",
       "1  31.518261  109.009463      0         1\n",
       "2  51.658864   41.007417      0         2\n",
       "3  60.994689   82.173861      0         3\n",
       "4  61.572998  129.252586      0         4"
      ]
     },
     "execution_count": 3,
     "metadata": {},
     "output_type": "execute_result"
    }
   ],
   "source": [
    "unused_columns = ['Unnamed: 0', 'mass', 'size', 'ecc', 'signal', 'raw_mass', 'ep']\n",
    "\n",
    "data = data.drop(columns=unused_columns)\n",
    "data.head()"
   ]
  },
  {
   "cell_type": "markdown",
   "metadata": {},
   "source": [
    "**Fill in missing values with average positions (if a skyrmion is missing for more than one frame, it might not be very precise, but it should not be a big issue here)**"
   ]
  },
  {
   "cell_type": "code",
   "execution_count": 4,
   "metadata": {},
   "outputs": [
    {
     "data": {
      "text/plain": [
       "15"
      ]
     },
     "execution_count": 4,
     "metadata": {},
     "output_type": "execute_result"
    }
   ],
   "source": [
    "no_skyrmions = data[data['frame'] == 0].shape[0]\n",
    "no_skyrmions"
   ]
  },
  {
   "cell_type": "code",
   "execution_count": 6,
   "metadata": {},
   "outputs": [
    {
     "name": "stderr",
     "output_type": "stream",
     "text": [
      "100%|██████████████████████████████████████████████████████████████████████████████████████████████████████████████| 800/800 [00:14<00:00, 53.62it/s]\n"
     ]
    }
   ],
   "source": [
    "# ids of initial particles\n",
    "ids = list(range(no_skyrmions))\n",
    "\n",
    "# iterate through the frames\n",
    "for f in tqdm(data['frame'].unique()):\n",
    "    for p in range(no_skyrmions):\n",
    "        # this means the skyrmion p is missing in frame f\n",
    "        if not any(data[data['frame'] == f]['particle'] == p):\n",
    "            \n",
    "            # find previous coorinates\n",
    "            x_prev = data[(data['frame'] == f-1) & (data['particle'] == p)]['x'].values[0]\n",
    "            y_prev = data[(data['frame'] == f-1) & (data['particle'] == p)]['y'].values[0]\n",
    "            \n",
    "            x_next = x_prev\n",
    "            y_next = y_prev\n",
    "            \n",
    "            #find next coordinates\n",
    "            for next_frame in range((f+1).astype(int), len(data['frame'].unique())):\n",
    "                if any(data[data['frame'] == f]['particle'] == p):\n",
    "                    x_next = data[(data['frame'] == next_frame) & (data['particle'] == p)]['x'].values[0]\n",
    "                    y_next = data[(data['frame'] == next_frame) & (data['particle'] == p)]['y'].values[0]\n",
    "                    break\n",
    "                    \n",
    "            # new coordinates\n",
    "            x_new = (x_prev + x_next) / 2\n",
    "            y_new = (y_prev + y_next) / 2\n",
    "            \n",
    "            data = data.append({'y' : y_new,\n",
    "                                'x' : x_new,\n",
    "                                'frame' : f,\n",
    "                                'particle': p}, ignore_index=True)"
   ]
  },
  {
   "cell_type": "code",
   "execution_count": 7,
   "metadata": {},
   "outputs": [],
   "source": [
    "data = data.sort_values(by=['frame', 'particle'])"
   ]
  },
  {
   "cell_type": "code",
   "execution_count": 8,
   "metadata": {},
   "outputs": [
    {
     "data": {
      "text/html": [
       "<div>\n",
       "<style scoped>\n",
       "    .dataframe tbody tr th:only-of-type {\n",
       "        vertical-align: middle;\n",
       "    }\n",
       "\n",
       "    .dataframe tbody tr th {\n",
       "        vertical-align: top;\n",
       "    }\n",
       "\n",
       "    .dataframe thead th {\n",
       "        text-align: right;\n",
       "    }\n",
       "</style>\n",
       "<table border=\"1\" class=\"dataframe\">\n",
       "  <thead>\n",
       "    <tr style=\"text-align: right;\">\n",
       "      <th></th>\n",
       "      <th>y</th>\n",
       "      <th>x</th>\n",
       "      <th>frame</th>\n",
       "      <th>particle</th>\n",
       "    </tr>\n",
       "  </thead>\n",
       "  <tbody>\n",
       "    <tr>\n",
       "      <th>0</th>\n",
       "      <td>24.420047</td>\n",
       "      <td>61.809992</td>\n",
       "      <td>0.0</td>\n",
       "      <td>0.0</td>\n",
       "    </tr>\n",
       "    <tr>\n",
       "      <th>1</th>\n",
       "      <td>31.518261</td>\n",
       "      <td>109.009463</td>\n",
       "      <td>0.0</td>\n",
       "      <td>1.0</td>\n",
       "    </tr>\n",
       "    <tr>\n",
       "      <th>2</th>\n",
       "      <td>51.658864</td>\n",
       "      <td>41.007417</td>\n",
       "      <td>0.0</td>\n",
       "      <td>2.0</td>\n",
       "    </tr>\n",
       "    <tr>\n",
       "      <th>3</th>\n",
       "      <td>60.994689</td>\n",
       "      <td>82.173861</td>\n",
       "      <td>0.0</td>\n",
       "      <td>3.0</td>\n",
       "    </tr>\n",
       "    <tr>\n",
       "      <th>4</th>\n",
       "      <td>61.572998</td>\n",
       "      <td>129.252586</td>\n",
       "      <td>0.0</td>\n",
       "      <td>4.0</td>\n",
       "    </tr>\n",
       "    <tr>\n",
       "      <th>...</th>\n",
       "      <td>...</td>\n",
       "      <td>...</td>\n",
       "      <td>...</td>\n",
       "      <td>...</td>\n",
       "    </tr>\n",
       "    <tr>\n",
       "      <th>11922</th>\n",
       "      <td>26.838018</td>\n",
       "      <td>9158.734705</td>\n",
       "      <td>799.0</td>\n",
       "      <td>10.0</td>\n",
       "    </tr>\n",
       "    <tr>\n",
       "      <th>11927</th>\n",
       "      <td>92.153535</td>\n",
       "      <td>8909.539660</td>\n",
       "      <td>799.0</td>\n",
       "      <td>11.0</td>\n",
       "    </tr>\n",
       "    <tr>\n",
       "      <th>11935</th>\n",
       "      <td>160.675052</td>\n",
       "      <td>8812.401110</td>\n",
       "      <td>799.0</td>\n",
       "      <td>12.0</td>\n",
       "    </tr>\n",
       "    <tr>\n",
       "      <th>11934</th>\n",
       "      <td>156.663224</td>\n",
       "      <td>8600.194927</td>\n",
       "      <td>799.0</td>\n",
       "      <td>13.0</td>\n",
       "    </tr>\n",
       "    <tr>\n",
       "      <th>11928</th>\n",
       "      <td>93.779025</td>\n",
       "      <td>8679.555818</td>\n",
       "      <td>799.0</td>\n",
       "      <td>14.0</td>\n",
       "    </tr>\n",
       "  </tbody>\n",
       "</table>\n",
       "<p>12000 rows × 4 columns</p>\n",
       "</div>"
      ],
      "text/plain": [
       "                y            x  frame  particle\n",
       "0       24.420047    61.809992    0.0       0.0\n",
       "1       31.518261   109.009463    0.0       1.0\n",
       "2       51.658864    41.007417    0.0       2.0\n",
       "3       60.994689    82.173861    0.0       3.0\n",
       "4       61.572998   129.252586    0.0       4.0\n",
       "...           ...          ...    ...       ...\n",
       "11922   26.838018  9158.734705  799.0      10.0\n",
       "11927   92.153535  8909.539660  799.0      11.0\n",
       "11935  160.675052  8812.401110  799.0      12.0\n",
       "11934  156.663224  8600.194927  799.0      13.0\n",
       "11928   93.779025  8679.555818  799.0      14.0\n",
       "\n",
       "[12000 rows x 4 columns]"
      ]
     },
     "execution_count": 8,
     "metadata": {},
     "output_type": "execute_result"
    }
   ],
   "source": [
    "data"
   ]
  },
  {
   "cell_type": "markdown",
   "metadata": {},
   "source": [
    "**Check that there are no more missing values**"
   ]
  },
  {
   "cell_type": "code",
   "execution_count": 9,
   "metadata": {},
   "outputs": [
    {
     "name": "stderr",
     "output_type": "stream",
     "text": [
      "100%|████████████████████████████████████████████████████████████████████████████████████████████████████████████| 800/800 [00:00<00:00, 2993.02it/s]\n"
     ]
    }
   ],
   "source": [
    "for f in tqdm(data['frame'].unique()):\n",
    "    if (data[data['frame'] == f]['particle'].shape[0] < no_skyrmions):\n",
    "        print(f)"
   ]
  },
  {
   "cell_type": "markdown",
   "metadata": {},
   "source": [
    "**Format the data so that it is in the format (frame, next_frame)**"
   ]
  },
  {
   "cell_type": "code",
   "execution_count": 10,
   "metadata": {},
   "outputs": [
    {
     "name": "stderr",
     "output_type": "stream",
     "text": [
      "100%|█████████████████████████████████████████████████████████████████████████████████████████████████████████████| 800/800 [00:06<00:00, 122.99it/s]\n"
     ]
    }
   ],
   "source": [
    "frames = []\n",
    "\n",
    "# iterate through the frames\n",
    "for f in tqdm(data['frame'].unique()):\n",
    "    coordinates = None\n",
    "    for p in data[data['frame'] == f]['particle']:\n",
    "        particle = data[(data['frame'] == f) & (data['particle'] == p)]\n",
    "        coordinates = np.append(coordinates, [particle['x'].values[0], particle['y'].values[0]]) if coordinates is not None else [particle['x'].values[0], particle['y'].values[0]]\n",
    "    frames.append(list(coordinates))"
   ]
  },
  {
   "cell_type": "markdown",
   "metadata": {},
   "source": [
    "**Place data in DataFrame**"
   ]
  },
  {
   "cell_type": "code",
   "execution_count": 11,
   "metadata": {},
   "outputs": [
    {
     "data": {
      "text/html": [
       "<div>\n",
       "<style scoped>\n",
       "    .dataframe tbody tr th:only-of-type {\n",
       "        vertical-align: middle;\n",
       "    }\n",
       "\n",
       "    .dataframe tbody tr th {\n",
       "        vertical-align: top;\n",
       "    }\n",
       "\n",
       "    .dataframe thead th {\n",
       "        text-align: right;\n",
       "    }\n",
       "</style>\n",
       "<table border=\"1\" class=\"dataframe\">\n",
       "  <thead>\n",
       "    <tr style=\"text-align: right;\">\n",
       "      <th></th>\n",
       "      <th>frame</th>\n",
       "      <th>next_frame</th>\n",
       "    </tr>\n",
       "  </thead>\n",
       "  <tbody>\n",
       "    <tr>\n",
       "      <th>0</th>\n",
       "      <td>[61.80999150562753, 24.420046719048628, 109.00...</td>\n",
       "      <td>[70.80009877085162, 22.786106233538195, 115.03...</td>\n",
       "    </tr>\n",
       "    <tr>\n",
       "      <th>1</th>\n",
       "      <td>[70.80009877085162, 22.786106233538195, 115.03...</td>\n",
       "      <td>[78.53846153846153, 23.79722075869336, 130.692...</td>\n",
       "    </tr>\n",
       "    <tr>\n",
       "      <th>2</th>\n",
       "      <td>[78.53846153846153, 23.79722075869336, 130.692...</td>\n",
       "      <td>[92.43681939593179, 22.50037668652832, 141.306...</td>\n",
       "    </tr>\n",
       "    <tr>\n",
       "      <th>3</th>\n",
       "      <td>[92.43681939593179, 22.50037668652832, 141.306...</td>\n",
       "      <td>[104.59782115297321, 22.04513325984048, 153.67...</td>\n",
       "    </tr>\n",
       "    <tr>\n",
       "      <th>4</th>\n",
       "      <td>[104.59782115297321, 22.04513325984048, 153.67...</td>\n",
       "      <td>[114.654700661428, 17.817739838317603, 167.487...</td>\n",
       "    </tr>\n",
       "    <tr>\n",
       "      <th>...</th>\n",
       "      <td>...</td>\n",
       "      <td>...</td>\n",
       "    </tr>\n",
       "    <tr>\n",
       "      <th>794</th>\n",
       "      <td>[8971.234802590348, 161.42225471763803, 8889.3...</td>\n",
       "      <td>[8981.526291116494, 162.7594343308071, 8905.46...</td>\n",
       "    </tr>\n",
       "    <tr>\n",
       "      <th>795</th>\n",
       "      <td>[8981.526291116494, 162.7594343308071, 8905.46...</td>\n",
       "      <td>[8990.157367074604, 162.0370600843532, 8920.93...</td>\n",
       "    </tr>\n",
       "    <tr>\n",
       "      <th>796</th>\n",
       "      <td>[8990.157367074604, 162.0370600843532, 8920.93...</td>\n",
       "      <td>[9007.540353356892, 162.55978798586568, 8926.0...</td>\n",
       "    </tr>\n",
       "    <tr>\n",
       "      <th>797</th>\n",
       "      <td>[9007.540353356892, 162.55978798586568, 8926.0...</td>\n",
       "      <td>[9017.586395147311, 165.976863084922, 8941.781...</td>\n",
       "    </tr>\n",
       "    <tr>\n",
       "      <th>798</th>\n",
       "      <td>[9017.586395147311, 165.976863084922, 8941.781...</td>\n",
       "      <td>[9030.630412102242, 161.97515649452268, 8950.1...</td>\n",
       "    </tr>\n",
       "  </tbody>\n",
       "</table>\n",
       "<p>799 rows × 2 columns</p>\n",
       "</div>"
      ],
      "text/plain": [
       "                                                 frame  \\\n",
       "0    [61.80999150562753, 24.420046719048628, 109.00...   \n",
       "1    [70.80009877085162, 22.786106233538195, 115.03...   \n",
       "2    [78.53846153846153, 23.79722075869336, 130.692...   \n",
       "3    [92.43681939593179, 22.50037668652832, 141.306...   \n",
       "4    [104.59782115297321, 22.04513325984048, 153.67...   \n",
       "..                                                 ...   \n",
       "794  [8971.234802590348, 161.42225471763803, 8889.3...   \n",
       "795  [8981.526291116494, 162.7594343308071, 8905.46...   \n",
       "796  [8990.157367074604, 162.0370600843532, 8920.93...   \n",
       "797  [9007.540353356892, 162.55978798586568, 8926.0...   \n",
       "798  [9017.586395147311, 165.976863084922, 8941.781...   \n",
       "\n",
       "                                            next_frame  \n",
       "0    [70.80009877085162, 22.786106233538195, 115.03...  \n",
       "1    [78.53846153846153, 23.79722075869336, 130.692...  \n",
       "2    [92.43681939593179, 22.50037668652832, 141.306...  \n",
       "3    [104.59782115297321, 22.04513325984048, 153.67...  \n",
       "4    [114.654700661428, 17.817739838317603, 167.487...  \n",
       "..                                                 ...  \n",
       "794  [8981.526291116494, 162.7594343308071, 8905.46...  \n",
       "795  [8990.157367074604, 162.0370600843532, 8920.93...  \n",
       "796  [9007.540353356892, 162.55978798586568, 8926.0...  \n",
       "797  [9017.586395147311, 165.976863084922, 8941.781...  \n",
       "798  [9030.630412102242, 161.97515649452268, 8950.1...  \n",
       "\n",
       "[799 rows x 2 columns]"
      ]
     },
     "execution_count": 11,
     "metadata": {},
     "output_type": "execute_result"
    }
   ],
   "source": [
    "# data in columns ['frame', 'next_frame']\n",
    "df = pd.DataFrame(columns=['frame', 'next_frame'])\n",
    "\n",
    "for i in range(1, len(frames)):\n",
    "    df = df.append({'frame': frames[i-1], 'next_frame': frames[i]}, ignore_index=True)\n",
    "\n",
    "df"
   ]
  },
  {
   "cell_type": "markdown",
   "metadata": {},
   "source": [
    "**Split data for training and testing**"
   ]
  },
  {
   "cell_type": "code",
   "execution_count": 12,
   "metadata": {},
   "outputs": [],
   "source": [
    "from sklearn.model_selection import train_test_split\n",
    "\n",
    "X = df['frame'].tolist()\n",
    "y = df['next_frame'].tolist()\n",
    "\n",
    "X_train, X_test, y_train, y_test = train_test_split(X, y, test_size=0.2, random_state=5)"
   ]
  },
  {
   "cell_type": "markdown",
   "metadata": {},
   "source": [
    "**Train model with Linear Regression**"
   ]
  },
  {
   "cell_type": "code",
   "execution_count": 13,
   "metadata": {},
   "outputs": [
    {
     "data": {
      "text/plain": [
       "LinearRegression()"
      ]
     },
     "execution_count": 13,
     "metadata": {},
     "output_type": "execute_result"
    }
   ],
   "source": [
    "from sklearn.linear_model import LinearRegression\n",
    "\n",
    "lin_model = LinearRegression()\n",
    "lin_model.fit(X_train, y_train)"
   ]
  },
  {
   "cell_type": "markdown",
   "metadata": {},
   "source": [
    "**Model evaluation**"
   ]
  },
  {
   "cell_type": "code",
   "execution_count": 14,
   "metadata": {},
   "outputs": [
    {
     "name": "stdout",
     "output_type": "stream",
     "text": [
      "The model performance for training set\n",
      "--------------------------------------\n",
      "RMSE is 3.435986414665386\n",
      "R2 score is 0.9881696083884253\n",
      "\n",
      "\n",
      "The model performance for testing set\n",
      "--------------------------------------\n",
      "RMSE is 3.5791488423876037\n",
      "R2 score is 0.9859669037408627\n"
     ]
    }
   ],
   "source": [
    "from sklearn.metrics import mean_squared_error, r2_score\n",
    "\n",
    "# model evaluation for training set\n",
    "y_train_predict = lin_model.predict(X_train)\n",
    "rmse = (np.sqrt(mean_squared_error(y_train, y_train_predict)))\n",
    "r2 = r2_score(y_train, y_train_predict)\n",
    "\n",
    "print(\"The model performance for training set\")\n",
    "print(\"--------------------------------------\")\n",
    "print('RMSE is {}'.format(rmse))\n",
    "print('R2 score is {}'.format(r2))\n",
    "print(\"\\n\")\n",
    "\n",
    "# model evaluation for testing set\n",
    "y_test_predict = lin_model.predict(X_test)\n",
    "rmse = (np.sqrt(mean_squared_error(y_test, y_test_predict)))\n",
    "r2 = r2_score(y_test, y_test_predict)\n",
    "\n",
    "print(\"The model performance for testing set\")\n",
    "print(\"--------------------------------------\")\n",
    "print('RMSE is {}'.format(rmse))\n",
    "print('R2 score is {}'.format(r2))"
   ]
  },
  {
   "cell_type": "markdown",
   "metadata": {},
   "source": [
    "**Train with Polynoial Regression**"
   ]
  },
  {
   "cell_type": "code",
   "execution_count": 15,
   "metadata": {},
   "outputs": [],
   "source": [
    "from sklearn.preprocessing import PolynomialFeatures\n",
    "\n",
    "def create_polynomial_regression_model(degree):\n",
    "    poly_features = PolynomialFeatures(degree=degree)\n",
    "\n",
    "    # transform the features to higher degree features.\n",
    "    X_train_poly = poly_features.fit_transform(X_train)\n",
    "\n",
    "    # fit the transformed features to Linear Regression\n",
    "    poly_model = LinearRegression()\n",
    "    poly_model.fit(X_train_poly, y_train)\n",
    "\n",
    "    # predicting on training data-set\n",
    "    y_train_predicted = poly_model.predict(X_train_poly)\n",
    "\n",
    "    # predicting on test data-set\n",
    "    y_test_predict = poly_model.predict(poly_features.fit_transform(X_test))\n",
    "\n",
    "    # evaluating the model on training dataset\n",
    "    rmse_train = np.sqrt(mean_squared_error(y_train, y_train_predicted))\n",
    "    r2_train = r2_score(y_train, y_train_predicted)\n",
    "\n",
    "    # evaluating the model on test dataset\n",
    "    rmse_test = np.sqrt(mean_squared_error(y_test, y_test_predict))\n",
    "    r2_test = r2_score(y_test, y_test_predict)\n",
    "\n",
    "    print(\"The model performance for the training set\")\n",
    "    print(\"-------------------------------------------\")\n",
    "    print(\"RMSE of training set is {}\".format(rmse_train))\n",
    "    print(\"R2 score of training set is {}\".format(r2_train))\n",
    "\n",
    "    print(\"\\n\")\n",
    "\n",
    "    print(\"The model performance for the test set\")\n",
    "    print(\"-------------------------------------------\")\n",
    "    print(\"RMSE of test set is {}\".format(rmse_test))\n",
    "    print(\"R2 score of test set is {}\".format(r2_test))"
   ]
  },
  {
   "cell_type": "code",
   "execution_count": 16,
   "metadata": {},
   "outputs": [
    {
     "name": "stdout",
     "output_type": "stream",
     "text": [
      "The model performance for the training set\n",
      "-------------------------------------------\n",
      "RMSE of training set is 1.477664193172833\n",
      "R2 score of training set is 0.9978300150049069\n",
      "\n",
      "\n",
      "The model performance for the test set\n",
      "-------------------------------------------\n",
      "RMSE of test set is 6.739025988622936\n",
      "R2 score of test set is 0.9503022773760215\n"
     ]
    }
   ],
   "source": [
    "create_polynomial_regression_model(2)"
   ]
  },
  {
   "cell_type": "code",
   "execution_count": 17,
   "metadata": {},
   "outputs": [
    {
     "name": "stdout",
     "output_type": "stream",
     "text": [
      "The model performance for the training set\n",
      "-------------------------------------------\n",
      "RMSE of training set is 1.0231375975174897e-07\n",
      "R2 score of training set is 1.0\n",
      "\n",
      "\n",
      "The model performance for the test set\n",
      "-------------------------------------------\n",
      "RMSE of test set is 22.630242458555895\n",
      "R2 score of test set is 0.7460104255008766\n"
     ]
    }
   ],
   "source": [
    "create_polynomial_regression_model(3)"
   ]
  },
  {
   "cell_type": "markdown",
   "metadata": {},
   "source": [
    "## Analyse behaviour of subsets of skyrmions (only cosider the ones in the top half, bottom half, centre)"
   ]
  },
  {
   "cell_type": "code",
   "execution_count": 20,
   "metadata": {},
   "outputs": [],
   "source": [
    "top = data.copy()\n",
    "bottom = data.copy()\n",
    "centre = data.copy()\n",
    "\n",
    "# drop particles that do not start in the top/bottom/centre of the first frame"
   ]
  },
  {
   "cell_type": "code",
   "execution_count": null,
   "metadata": {},
   "outputs": [],
   "source": []
  }
 ],
 "metadata": {
  "kernelspec": {
   "display_name": "Python 3.8.3 64-bit",
   "language": "python",
   "name": "python38364bitf17e3ae0e0b5412f8624a209625ef4a0"
  },
  "language_info": {
   "codemirror_mode": {
    "name": "ipython",
    "version": 3
   },
   "file_extension": ".py",
   "mimetype": "text/x-python",
   "name": "python",
   "nbconvert_exporter": "python",
   "pygments_lexer": "ipython3",
   "version": "3.8.3"
  }
 },
 "nbformat": 4,
 "nbformat_minor": 4
}
